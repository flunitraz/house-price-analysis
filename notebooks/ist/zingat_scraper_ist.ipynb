{
 "cells": [
  {
   "cell_type": "code",
   "execution_count": 1,
   "id": "50a83c91-8021-4134-879f-326f7d3a09bb",
   "metadata": {},
   "outputs": [],
   "source": [
    "from bs4 import BeautifulSoup as bs\n",
    "import requests\n",
    "import os\n",
    "import pandas as pd\n",
    "from datetime import datetime\n",
    "from IPython.display import clear_output"
   ]
  },
  {
   "cell_type": "code",
   "execution_count": 2,
   "id": "71f4c0b7",
   "metadata": {},
   "outputs": [],
   "source": [
    "def convert_timedelta(duration):\n",
    "    days, seconds = duration.days, duration.seconds\n",
    "    hours = days * 24 + seconds // 3600\n",
    "    minutes = (seconds % 3600) // 60\n",
    "    seconds = (seconds % 60)\n",
    "    print(\"Geçen zaman:\")\n",
    "    print(f\"{hours} saat {minutes} dakika {seconds} saniye\")"
   ]
  },
  {
   "cell_type": "code",
   "execution_count": 3,
   "id": "90c77931-b43b-4525-98f2-e4fd675c2426",
   "metadata": {
    "tags": []
   },
   "outputs": [],
   "source": [
    "ilce_list = [\"adalar\",\"arnavutkoy\",\"atasehir\",\"avcilar\",\"bagcilar\",\"istanbul-bahcelievler\",\"bakikoy\",\"basaksehir\",\"bayrampasa\",\"besiktas\",\"beykoz\",\"beylikduzu\",\"beyoglu\",\"buyukcekmece\",\"catalca\",\"cekmekoy\",\"esenler\",\"esenyurt\",\"eyupsultan\",\"fatih\",\"gaziosmanpasa\",\"gungoren\",\"kadikoy\",\"kagithane\",\"kartal\",\"kucukcekmece\",\"maltepe\",\"pendik\",\"sancaktepe\",\"sariyer\",\"sile\",\"silivri\",\"sisli\",\"sultanbeyli\",\"sultangazi\",\"tuzla\",\"umraniye\",\"uskudar\",\"zeytinburnu\"]"
   ]
  },
  {
   "cell_type": "code",
   "execution_count": 4,
   "id": "5e2530c7-77f5-40aa-b751-85881cc5f467",
   "metadata": {
    "tags": []
   },
   "outputs": [
    {
     "name": "stdout",
     "output_type": "stream",
     "text": [
      "Toplam 806 sayfa çekildi.\n",
      "\n",
      "Geçen zaman:\n",
      "0 saat 0 dakika 51 saniye\n"
     ]
    }
   ],
   "source": [
    "start = datetime.now()\n",
    "city_urls = []\n",
    "pages = []\n",
    "num_scraped_pages = 0\n",
    "\n",
    "for city in ilce_list:\n",
    "    url=\"https://www.zingat.com/\" + city +\"-satilik-daire?page=\"\n",
    "    city_urls.append(url)\n",
    "\n",
    "for i in range(0,len(city_urls)):\n",
    "    response = requests.get(city_urls[i]).text\n",
    "    soup = bs(response, 'html.parser')\n",
    "    try:\n",
    "        num_pages = soup.find(\"nav\", \"zng-pagination\")['data-total']\n",
    "        for j in range(1, int(num_pages)+1):\n",
    "            page = city_urls[i] + str(j)\n",
    "            pages.append(page)\n",
    "            num_scraped_pages+=1\n",
    "            \n",
    "            clear_output(wait=True)\n",
    "            print(f\"Toplam {num_scraped_pages} sayfa çekildi.\\n\")\n",
    "            convert_timedelta(datetime.now()-start)\n",
    "    except:\n",
    "        continue\n",
    "        \n"
   ]
  },
  {
   "cell_type": "code",
   "execution_count": 5,
   "id": "77c434ef-3c23-492f-a66f-51726cd8800c",
   "metadata": {},
   "outputs": [
    {
     "name": "stdout",
     "output_type": "stream",
     "text": [
      "Toplam 806 sayfadan ilan çekildi.\n",
      "\n",
      "Geçen zaman:\n",
      "0 saat 16 dakika 53 saniye\n",
      "\n",
      "Çekilen toplam ilan sayısı = 16554\n"
     ]
    }
   ],
   "source": [
    "start = datetime.now()\n",
    "page_url = []\n",
    "cont_url = []\n",
    "num_scraped_pages = 0\n",
    "num_scraped_cont = 0\n",
    "\n",
    "for page in pages:\n",
    "    response = requests.get(page)\n",
    "    soup = bs(response.text, \"html.parser\")\n",
    "    page_url.append(soup.select(\".zl-card-inner\"))\n",
    "    num_scraped_pages+=1\n",
    "    \n",
    "    clear_output(wait=True)\n",
    "    print(f\"Toplam {num_scraped_pages} sayfadan ilan çekildi.\\n\")\n",
    "    convert_timedelta(datetime.now()-start)\n",
    "    \n",
    "for page in page_url:\n",
    "    for url in page:\n",
    "        cont_url.append(\"https://www.zingat.com\" + url.get(\"href\"))        \n",
    "        num_scraped_cont+=1\n",
    "\n",
    "print(f\"\\nÇekilen toplam ilan sayısı = {num_scraped_cont}\")"
   ]
  },
  {
   "cell_type": "code",
   "execution_count": 6,
   "id": "8a5b9772-e1cd-433c-87ea-7578b51dd529",
   "metadata": {},
   "outputs": [
    {
     "name": "stdout",
     "output_type": "stream",
     "text": [
      "Toplam 16551 içerik çekildi.\n",
      "\n",
      "Geçen zaman:\n",
      "2 saat 43 dakika 11 saniye\n"
     ]
    }
   ],
   "source": [
    "start = datetime.now()\n",
    "detay_raw = []\n",
    "oda= []\n",
    "fiyat = []\n",
    "mahalle = []\n",
    "ilce =[]\n",
    "il = []\n",
    "num_scraped_cont = 0\n",
    "\n",
    "for url in cont_url:\n",
    "    try:\n",
    "        response = requests.get(url)\n",
    "        soup = bs(response.text, \"html.parser\")\n",
    "        \n",
    "        detay_raw.append([tag.text.strip() for tag in soup.find_all([\"strong\", \"span\"], {\"class\": \"col-md-6\"})])\n",
    "        fiyat.append(soup.find(\"strong\", itemprop = \"price\").text.replace(\"TL\", \"\").replace(\".\",\"\").replace(\" \",\"\"))\n",
    "        oda.append(soup.find(\"div\",\"detail-info not-printable\").text.replace(\"\\n\",\",\").split(\",\")[5])\n",
    "        mahalle.append(soup.find(\"div\", \"detail-location-path__map\").find(\"h2\").text.replace(\"\\n\",\"\").split(\",\")[0].strip())\n",
    "        ilce.append(soup.find(\"div\", \"detail-location-path__map\").find(\"h2\").text.replace(\"\\n\",\"\").split(\",\")[1].strip())\n",
    "        il.append(soup.find(\"div\", \"detail-location-path__map\").find(\"h2\").text.replace(\"\\n\",\"\").split(\",\")[2].strip())\n",
    "        num_scraped_cont+=1\n",
    "        \n",
    "        clear_output(wait=True)\n",
    "        print(f\"Toplam {num_scraped_cont} içerik çekildi.\\n\")    \n",
    "        convert_timedelta(datetime.now()-start)\n",
    "    except:\n",
    "        continue\n",
    "    \n",
    "detay = []\n",
    "for d in detay_raw:\n",
    "    detay.append(dict(zip(d[::2], d[1::2])))"
   ]
  },
  {
   "cell_type": "code",
   "execution_count": 7,
   "id": "aa9104bf-b308-4299-bd2e-5c024c1695fe",
   "metadata": {},
   "outputs": [],
   "source": [
    "df = pd.DataFrame(detay)\n",
    "df['Fiyat'] = pd.Series(fiyat)\n",
    "df['İl'] = pd.Series(il)\n",
    "df['İlçe'] = pd.Series(ilce)\n",
    "df['Mahalle'] = pd.Series(mahalle)\n",
    "df['Oda'] = pd.Series(oda)"
   ]
  },
  {
   "cell_type": "code",
   "execution_count": 8,
   "id": "d45294a2",
   "metadata": {},
   "outputs": [],
   "source": [
    "df.drop([\"İlan no\",\"Oda Sayısı\",\"Banyo Sayısı\",\"Konut Şekli\",\"Aidat\",\"Kira Getirisi\",\n",
    "         \"Takasa Uygun\",\"Kimden\",\"Tapu Durumu\",\"Yapının Durumu\",\n",
    "         \"Görüntülü Ev Gezintisi\\n                                                                ?\"],\n",
    "        axis=1,inplace=True)"
   ]
  },
  {
   "cell_type": "code",
   "execution_count": 11,
   "id": "87c41dfd",
   "metadata": {},
   "outputs": [],
   "source": [
    "df.to_csv(\"../data/zingat_ist_raw.csv\")"
   ]
  }
 ],
 "metadata": {
  "celltoolbar": "Attachments",
  "kernelspec": {
   "display_name": "Python 3",
   "language": "python",
   "name": "python3"
  },
  "language_info": {
   "codemirror_mode": {
    "name": "ipython",
    "version": 3
   },
   "file_extension": ".py",
   "mimetype": "text/x-python",
   "name": "python",
   "nbconvert_exporter": "python",
   "pygments_lexer": "ipython3",
   "version": "3.10.6 (main, Nov 10 2011, 15:00:00) [GCC 12.1.0]"
  },
  "vscode": {
   "interpreter": {
    "hash": "e7370f93d1d0cde622a1f8e1c04877d8463912d04d973331ad4851f04de6915a"
   }
  }
 },
 "nbformat": 4,
 "nbformat_minor": 5
}
