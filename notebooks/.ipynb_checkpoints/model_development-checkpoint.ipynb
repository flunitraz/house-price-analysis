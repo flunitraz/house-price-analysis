{
 "cells": [
  {
   "cell_type": "code",
   "execution_count": 1,
   "metadata": {},
   "outputs": [],
   "source": [
    "import pandas as pd\n",
    "import numpy as np\n",
    "from sklearn.model_selection import train_test_split\n",
    "from sklearn.linear_model import LinearRegression\n",
    "from sklearn.svm import SVR\n",
    "from sklearn.ensemble import RandomForestRegressor\n",
    "from sklearn.tree import DecisionTreeRegressor\n",
    "from sklearn.preprocessing import StandardScaler,PolynomialFeatures"
   ]
  },
  {
   "cell_type": "code",
   "execution_count": 2,
   "metadata": {},
   "outputs": [],
   "source": [
    "df = pd.read_csv('../data/zingat_preprocessed.csv')\n",
    "df.drop(['Unnamed: 0',\"il\",\"ilce\",\"mahalle\",\"oda_sayisi\"], axis = 1,inplace=True)"
   ]
  },
  {
   "cell_type": "code",
   "execution_count": 3,
   "metadata": {},
   "outputs": [
    {
     "data": {
      "text/html": [
       "<div>\n",
       "<style scoped>\n",
       "    .dataframe tbody tr th:only-of-type {\n",
       "        vertical-align: middle;\n",
       "    }\n",
       "\n",
       "    .dataframe tbody tr th {\n",
       "        vertical-align: top;\n",
       "    }\n",
       "\n",
       "    .dataframe thead th {\n",
       "        text-align: right;\n",
       "    }\n",
       "</style>\n",
       "<table border=\"1\" class=\"dataframe\">\n",
       "  <thead>\n",
       "    <tr style=\"text-align: right;\">\n",
       "      <th></th>\n",
       "      <th>net_alan</th>\n",
       "      <th>brut_alan</th>\n",
       "      <th>kat_sayisi</th>\n",
       "      <th>isitma</th>\n",
       "      <th>bulundugu_kat</th>\n",
       "      <th>bina_yasi</th>\n",
       "      <th>esya</th>\n",
       "      <th>kullanim_durumu</th>\n",
       "      <th>kredi_durumu</th>\n",
       "      <th>fiyat</th>\n",
       "      <th>toplam_oda_sayisi</th>\n",
       "      <th>lat</th>\n",
       "      <th>lng</th>\n",
       "    </tr>\n",
       "  </thead>\n",
       "  <tbody>\n",
       "    <tr>\n",
       "      <th>0</th>\n",
       "      <td>100</td>\n",
       "      <td>110</td>\n",
       "      <td>7</td>\n",
       "      <td>2</td>\n",
       "      <td>3</td>\n",
       "      <td>28</td>\n",
       "      <td>0</td>\n",
       "      <td>0</td>\n",
       "      <td>0</td>\n",
       "      <td>1350000</td>\n",
       "      <td>3</td>\n",
       "      <td>41.034547</td>\n",
       "      <td>28.856756</td>\n",
       "    </tr>\n",
       "    <tr>\n",
       "      <th>1</th>\n",
       "      <td>80</td>\n",
       "      <td>95</td>\n",
       "      <td>15</td>\n",
       "      <td>2</td>\n",
       "      <td>15</td>\n",
       "      <td>3</td>\n",
       "      <td>0</td>\n",
       "      <td>0</td>\n",
       "      <td>1</td>\n",
       "      <td>2975000</td>\n",
       "      <td>3</td>\n",
       "      <td>41.034547</td>\n",
       "      <td>28.856756</td>\n",
       "    </tr>\n",
       "    <tr>\n",
       "      <th>2</th>\n",
       "      <td>110</td>\n",
       "      <td>115</td>\n",
       "      <td>5</td>\n",
       "      <td>1</td>\n",
       "      <td>1</td>\n",
       "      <td>28</td>\n",
       "      <td>0</td>\n",
       "      <td>0</td>\n",
       "      <td>0</td>\n",
       "      <td>1100000</td>\n",
       "      <td>4</td>\n",
       "      <td>41.034547</td>\n",
       "      <td>28.856756</td>\n",
       "    </tr>\n",
       "    <tr>\n",
       "      <th>3</th>\n",
       "      <td>75</td>\n",
       "      <td>135</td>\n",
       "      <td>15</td>\n",
       "      <td>3</td>\n",
       "      <td>3</td>\n",
       "      <td>0</td>\n",
       "      <td>0</td>\n",
       "      <td>0</td>\n",
       "      <td>0</td>\n",
       "      <td>2970000</td>\n",
       "      <td>3</td>\n",
       "      <td>41.034547</td>\n",
       "      <td>28.856756</td>\n",
       "    </tr>\n",
       "    <tr>\n",
       "      <th>4</th>\n",
       "      <td>85</td>\n",
       "      <td>105</td>\n",
       "      <td>10</td>\n",
       "      <td>2</td>\n",
       "      <td>1</td>\n",
       "      <td>8</td>\n",
       "      <td>2</td>\n",
       "      <td>2</td>\n",
       "      <td>1</td>\n",
       "      <td>2500000</td>\n",
       "      <td>3</td>\n",
       "      <td>41.034547</td>\n",
       "      <td>28.856756</td>\n",
       "    </tr>\n",
       "    <tr>\n",
       "      <th>...</th>\n",
       "      <td>...</td>\n",
       "      <td>...</td>\n",
       "      <td>...</td>\n",
       "      <td>...</td>\n",
       "      <td>...</td>\n",
       "      <td>...</td>\n",
       "      <td>...</td>\n",
       "      <td>...</td>\n",
       "      <td>...</td>\n",
       "      <td>...</td>\n",
       "      <td>...</td>\n",
       "      <td>...</td>\n",
       "      <td>...</td>\n",
       "    </tr>\n",
       "    <tr>\n",
       "      <th>23029</th>\n",
       "      <td>220</td>\n",
       "      <td>240</td>\n",
       "      <td>5</td>\n",
       "      <td>2</td>\n",
       "      <td>5</td>\n",
       "      <td>0</td>\n",
       "      <td>1</td>\n",
       "      <td>0</td>\n",
       "      <td>1</td>\n",
       "      <td>4170000</td>\n",
       "      <td>6</td>\n",
       "      <td>41.465204</td>\n",
       "      <td>32.113475</td>\n",
       "    </tr>\n",
       "    <tr>\n",
       "      <th>23030</th>\n",
       "      <td>125</td>\n",
       "      <td>135</td>\n",
       "      <td>4</td>\n",
       "      <td>2</td>\n",
       "      <td>2</td>\n",
       "      <td>0</td>\n",
       "      <td>0</td>\n",
       "      <td>0</td>\n",
       "      <td>1</td>\n",
       "      <td>1275000</td>\n",
       "      <td>4</td>\n",
       "      <td>41.465204</td>\n",
       "      <td>32.113475</td>\n",
       "    </tr>\n",
       "    <tr>\n",
       "      <th>23031</th>\n",
       "      <td>95</td>\n",
       "      <td>110</td>\n",
       "      <td>4</td>\n",
       "      <td>2</td>\n",
       "      <td>0</td>\n",
       "      <td>0</td>\n",
       "      <td>0</td>\n",
       "      <td>0</td>\n",
       "      <td>1</td>\n",
       "      <td>1285000</td>\n",
       "      <td>3</td>\n",
       "      <td>41.465204</td>\n",
       "      <td>32.113475</td>\n",
       "    </tr>\n",
       "    <tr>\n",
       "      <th>23032</th>\n",
       "      <td>65</td>\n",
       "      <td>85</td>\n",
       "      <td>4</td>\n",
       "      <td>2</td>\n",
       "      <td>1</td>\n",
       "      <td>4</td>\n",
       "      <td>2</td>\n",
       "      <td>1</td>\n",
       "      <td>1</td>\n",
       "      <td>975000</td>\n",
       "      <td>2</td>\n",
       "      <td>41.465204</td>\n",
       "      <td>32.113475</td>\n",
       "    </tr>\n",
       "    <tr>\n",
       "      <th>23033</th>\n",
       "      <td>90</td>\n",
       "      <td>110</td>\n",
       "      <td>4</td>\n",
       "      <td>2</td>\n",
       "      <td>1</td>\n",
       "      <td>8</td>\n",
       "      <td>0</td>\n",
       "      <td>2</td>\n",
       "      <td>1</td>\n",
       "      <td>935000</td>\n",
       "      <td>3</td>\n",
       "      <td>41.465204</td>\n",
       "      <td>32.113475</td>\n",
       "    </tr>\n",
       "  </tbody>\n",
       "</table>\n",
       "<p>23034 rows × 13 columns</p>\n",
       "</div>"
      ],
      "text/plain": [
       "       net_alan  brut_alan  kat_sayisi  isitma  bulundugu_kat  bina_yasi  \\\n",
       "0           100        110           7       2              3         28   \n",
       "1            80         95          15       2             15          3   \n",
       "2           110        115           5       1              1         28   \n",
       "3            75        135          15       3              3          0   \n",
       "4            85        105          10       2              1          8   \n",
       "...         ...        ...         ...     ...            ...        ...   \n",
       "23029       220        240           5       2              5          0   \n",
       "23030       125        135           4       2              2          0   \n",
       "23031        95        110           4       2              0          0   \n",
       "23032        65         85           4       2              1          4   \n",
       "23033        90        110           4       2              1          8   \n",
       "\n",
       "       esya  kullanim_durumu  kredi_durumu    fiyat  toplam_oda_sayisi  \\\n",
       "0         0                0             0  1350000                  3   \n",
       "1         0                0             1  2975000                  3   \n",
       "2         0                0             0  1100000                  4   \n",
       "3         0                0             0  2970000                  3   \n",
       "4         2                2             1  2500000                  3   \n",
       "...     ...              ...           ...      ...                ...   \n",
       "23029     1                0             1  4170000                  6   \n",
       "23030     0                0             1  1275000                  4   \n",
       "23031     0                0             1  1285000                  3   \n",
       "23032     2                1             1   975000                  2   \n",
       "23033     0                2             1   935000                  3   \n",
       "\n",
       "             lat        lng  \n",
       "0      41.034547  28.856756  \n",
       "1      41.034547  28.856756  \n",
       "2      41.034547  28.856756  \n",
       "3      41.034547  28.856756  \n",
       "4      41.034547  28.856756  \n",
       "...          ...        ...  \n",
       "23029  41.465204  32.113475  \n",
       "23030  41.465204  32.113475  \n",
       "23031  41.465204  32.113475  \n",
       "23032  41.465204  32.113475  \n",
       "23033  41.465204  32.113475  \n",
       "\n",
       "[23034 rows x 13 columns]"
      ]
     },
     "execution_count": 3,
     "metadata": {},
     "output_type": "execute_result"
    }
   ],
   "source": [
    "df"
   ]
  },
  {
   "cell_type": "code",
   "execution_count": 4,
   "metadata": {},
   "outputs": [],
   "source": [
    "X = df.drop([\"fiyat\"],axis=1)\n",
    "y = df[\"fiyat\"].values\n",
    "X_train, X_test, y_train, y_test = train_test_split(X, y, test_size = 0.3)\n",
    "\n",
    "sc=StandardScaler()\n",
    "X_train_scaled = sc.fit_transform(X_train)\n",
    "X_test_scaled = sc.fit_transform(X_test)\n",
    "y_train_scaled = np.ravel(sc.fit_transform(y_train.reshape(-1,1)))\n",
    "y_test_scaled = np.ravel(sc.fit_transform(y_test.reshape(-1,1)))"
   ]
  },
  {
   "cell_type": "code",
   "execution_count": 5,
   "metadata": {},
   "outputs": [],
   "source": [
    "lin_reg = LinearRegression()\n",
    "lin_reg.fit(X_train,y_train)\n",
    "\n",
    "r_squared_lin = lin_reg.score(X_test, y_test)"
   ]
  },
  {
   "cell_type": "code",
   "execution_count": null,
   "metadata": {},
   "outputs": [],
   "source": [
    "poly_reg = PolynomialFeatures(degree = 4)\n",
    "x_poly = poly_reg.fit_transform(X_)"
   ]
  },
  {
   "cell_type": "code",
   "execution_count": 6,
   "metadata": {},
   "outputs": [],
   "source": [
    "\n",
    "svr_reg = SVR(kernel='rbf')\n",
    "svr_reg.fit(X_train_scaled,y_train_scaled)\n",
    "\n",
    "r_squared_svr = svr_reg.score(X_test_scaled, y_test_scaled)\n"
   ]
  },
  {
   "cell_type": "code",
   "execution_count": 7,
   "metadata": {},
   "outputs": [],
   "source": [
    "dt_reg =  DecisionTreeRegressor()\n",
    "dt_reg.fit(X_train,y_train)\n",
    "\n",
    "r_squared_dt = dt_reg.score(X_test, y_test)"
   ]
  },
  {
   "cell_type": "code",
   "execution_count": 8,
   "metadata": {},
   "outputs": [],
   "source": [
    "rfr_reg =  RandomForestRegressor()\n",
    "rfr_reg.fit(X_train,y_train)\n",
    "\n",
    "r_squared_rfr = rfr_reg.score(X_test, y_test)"
   ]
  },
  {
   "cell_type": "code",
   "execution_count": 12,
   "metadata": {},
   "outputs": [
    {
     "name": "stdout",
     "output_type": "stream",
     "text": [
      "linear r2 = 0.2772786760759596\n",
      "support vector r2 = 0.39096007287661927\n",
      "decision tree r2 = 0.34238717866308443\n",
      "random forest r2 = 0.6620722030779977\n"
     ]
    }
   ],
   "source": [
    "print(f\"linear r2 = {r_squared_lin}\\nsupport vector r2 = {r_squared_svr}\\ndecision tree r2 = {r_squared_dt}\\nrandom forest r2 = {r_squared_rfr}\")"
   ]
  },
  {
   "cell_type": "markdown",
   "metadata": {},
   "source": [
    "GridSearch Hyper parameter"
   ]
  },
  {
   "cell_type": "code",
   "execution_count": 58,
   "metadata": {},
   "outputs": [
    {
     "name": "stdout",
     "output_type": "stream",
     "text": [
      "The best hyperparameters are {'max_depth': 60}\n",
      "Train score = 0.6354685970645975\n"
     ]
    }
   ],
   "source": [
    "from sklearn.model_selection import GridSearchCV\n",
    "\n",
    "rfr_cv =  RandomForestRegressor()\n",
    "\n",
    "param_grid = {'max_depth': [20, 40, 60, 80]}\n",
    "\n",
    "search = GridSearchCV(rfr_cv, param_grid, cv=5).fit(X_train, y_train)\n",
    "\n",
    "print(f\"The best hyperparameters are {search.best_params_}\\nTrain score = {search.best_score_}\")"
   ]
  },
  {
   "cell_type": "code",
   "execution_count": 69,
   "metadata": {},
   "outputs": [
    {
     "data": {
      "text/plain": [
       "0.6639985042615992"
      ]
     },
     "execution_count": 69,
     "metadata": {},
     "output_type": "execute_result"
    }
   ],
   "source": [
    "rfr_reg =  RandomForestRegressor(max_depth=15,n_estimators=100)\n",
    "rfr_reg.fit(X_train,y_train)\n",
    "\n",
    "rfr_reg.score(X_test, y_test)"
   ]
  },
  {
   "cell_type": "code",
   "execution_count": 113,
   "metadata": {},
   "outputs": [],
   "source": [
    "test_scores = []\n",
    "train_scores = []\n",
    "i_scores = []\n",
    "for i in range(5,76,5):\n",
    "    rfr_reg =  RandomForestRegressor(max_depth=i,n_estimators=100)\n",
    "    rfr_reg.fit(X_train,y_train)\n",
    "\n",
    "    test_scores.append(rfr_reg.score(X_test, y_test))\n",
    "    train_scores.append(rfr_reg.score(X_train, y_train))\n",
    "    i_scores.append(i)"
   ]
  },
  {
   "cell_type": "code",
   "execution_count": 114,
   "metadata": {},
   "outputs": [
    {
     "data": {
      "image/png": "[encoded data removed]",
      "text/plain": [
       "<Figure size 640x480 with 1 Axes>"
      ]
     },
     "metadata": {},
     "output_type": "display_data"
    }
   ],
   "source": [
    "import matplotlib.pyplot as plt\n",
    "plt.plot(i_scores,test_scores, label=\"test scores\")\n",
    "plt.plot(i_scores,train_scores, label =\"train scores\")\n",
    "plt.title(\"max_depth\")\n",
    "plt.legend()\n",
    "plt.show()"
   ]
  },
  {
   "cell_type": "code",
   "execution_count": 106,
   "metadata": {},
   "outputs": [],
   "source": [
    "test_scores = []\n",
    "train_scores = []\n",
    "i_scores = []\n",
    "for i in range(2,2000,200):\n",
    "    rfr_reg =  RandomForestRegressor(min_samples_split=i,n_estimators=100)\n",
    "    rfr_reg.fit(X_train,y_train)\n",
    "\n",
    "    test_scores.append(rfr_reg.score(X_test, y_test))\n",
    "    train_scores.append(rfr_reg.score(X_train, y_train))\n",
    "    i_scores.append(i)"
   ]
  },
  {
   "cell_type": "code",
   "execution_count": 108,
   "metadata": {},
   "outputs": [
    {
     "data": {
      "image/png": "[encoded data removed]",
      "text/plain": [
       "<Figure size 640x480 with 1 Axes>"
      ]
     },
     "metadata": {},
     "output_type": "display_data"
    }
   ],
   "source": [
    "plt.plot(i_scores,test_scores, label=\"test scores\")\n",
    "plt.plot(i_scores,train_scores, label =\"train scores\")\n",
    "plt.title(\"min_sample_split\")\n",
    "plt.legend()\n",
    "plt.show()"
   ]
  },
  {
   "cell_type": "code",
   "execution_count": 112,
   "metadata": {},
   "outputs": [],
   "source": [
    "test_scores = []\n",
    "train_scores = []\n",
    "i_scores = []\n",
    "for i in range(1,60,2):\n",
    "    rfr_reg =  RandomForestRegressor(max_features=i,n_estimators=100)\n",
    "    rfr_reg.fit(X_train,y_train)\n",
    "\n",
    "    test_scores.append(rfr_reg.score(X_test, y_test))\n",
    "    train_scores.append(rfr_reg.score(X_train, y_train))\n",
    "    i_scores.append(i)"
   ]
  },
  {
   "cell_type": "code",
   "execution_count": 111,
   "metadata": {},
   "outputs": [
    {
     "data": {
      "image/png": "[encoded data removed]",
      "text/plain": [
       "<Figure size 640x480 with 1 Axes>"
      ]
     },
     "metadata": {},
     "output_type": "display_data"
    }
   ],
   "source": [
    "plt.plot(i_scores,test_scores, label=\"test scores\")\n",
    "plt.plot(i_scores,train_scores, label =\"train scores\")\n",
    "plt.title(\"max_features\")\n",
    "plt.legend()\n",
    "plt.show()"
   ]
  },
  {
   "cell_type": "code",
   "execution_count": 122,
   "metadata": {},
   "outputs": [],
   "source": [
    "test_scores = []\n",
    "train_scores = []\n",
    "i_scores = []\n",
    "for i in range(1,1000,50):\n",
    "    rfr_reg =  RandomForestRegressor(n_estimators=i)\n",
    "    rfr_reg.fit(X_train,y_train)\n",
    "\n",
    "    test_scores.append(rfr_reg.score(X_test, y_test))\n",
    "    train_scores.append(rfr_reg.score(X_train, y_train))\n",
    "    i_scores.append(i)"
   ]
  },
  {
   "cell_type": "code",
   "execution_count": 123,
   "metadata": {},
   "outputs": [
    {
     "data": {
      "image/png": "[encoded data removed]",
      "text/plain": [
       "<Figure size 640x480 with 1 Axes>"
      ]
     },
     "metadata": {},
     "output_type": "display_data"
    }
   ],
   "source": [
    "plt.plot(i_scores,test_scores, label=\"test scores\")\n",
    "plt.plot(i_scores,train_scores, label =\"train scores\")\n",
    "plt.title(\"n_estimators\")\n",
    "plt.legend()\n",
    "plt.show()"
   ]
  },
  {
   "cell_type": "code",
   "execution_count": 116,
   "metadata": {},
   "outputs": [
    {
     "name": "stdout",
     "output_type": "stream",
     "text": [
      "The best hyperparameters are {'max_depth': 69, 'max_features': 9}\n",
      "Train score = 0.6427845241426317\n"
     ]
    }
   ],
   "source": [
    "from sklearn.model_selection import GridSearchCV\n",
    "\n",
    "rfr_cv =  RandomForestRegressor()\n",
    "\n",
    "param_grid = {'max_depth': range(60,70,1),\n",
    "            'max_features':range(6,10,1)}\n",
    "\n",
    "search = GridSearchCV(rfr_cv, param_grid, cv=5).fit(X_train, y_train)\n",
    "\n",
    "print(f\"The best hyperparameters are {search.best_params_}\\nTrain score = {search.best_score_}\")"
   ]
  },
  {
   "cell_type": "code",
   "execution_count": 121,
   "metadata": {},
   "outputs": [
    {
     "data": {
      "text/plain": [
       "0.6695649719401557"
      ]
     },
     "execution_count": 121,
     "metadata": {},
     "output_type": "execute_result"
    }
   ],
   "source": [
    "rfr_reg =  RandomForestRegressor(max_features=9,max_depth=69,n_estimators=1500)\n",
    "rfr_reg.fit(X_train,y_train)\n",
    "\n",
    "rfr_reg.score(X_test, y_test)"
   ]
  },
  {
   "cell_type": "code",
   "execution_count": null,
   "metadata": {},
   "outputs": [],
   "source": []
  }
 ],
 "metadata": {
  "kernelspec": {
   "display_name": "Python 3 (ipykernel)",
   "language": "python",
   "name": "python3"
  },
  "language_info": {
   "codemirror_mode": {
    "name": "ipython",
    "version": 3
   },
   "file_extension": ".py",
   "mimetype": "text/x-python",
   "name": "python",
   "nbconvert_exporter": "python",
   "pygments_lexer": "ipython3",
   "version": "3.10.6"
  },
  "vscode": {
   "interpreter": {
    "hash": "618139af683151bf675edf0ec537a07ac32e7df296cc30b40ff629e71e217d55"
   }
  }
 },
 "nbformat": 4,
 "nbformat_minor": 2
}
