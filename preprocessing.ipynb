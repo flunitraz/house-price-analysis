{
 "cells": [
  {
   "cell_type": "code",
   "execution_count": 1,
   "id": "6547eef4",
   "metadata": {},
   "outputs": [],
   "source": [
    "import pandas as pd"
   ]
  },
  {
   "cell_type": "code",
   "execution_count": 2,
   "id": "9970d790",
   "metadata": {},
   "outputs": [],
   "source": [
    "df = pd.read_csv(\"data/zingat_raw.csv\", low_memory=False)"
   ]
  },
  {
   "cell_type": "code",
   "execution_count": 3,
   "id": "bc7eff81",
   "metadata": {},
   "outputs": [
    {
     "data": {
      "text/html": [
       "<div>\n",
       "<style scoped>\n",
       "    .dataframe tbody tr th:only-of-type {\n",
       "        vertical-align: middle;\n",
       "    }\n",
       "\n",
       "    .dataframe tbody tr th {\n",
       "        vertical-align: top;\n",
       "    }\n",
       "\n",
       "    .dataframe thead th {\n",
       "        text-align: right;\n",
       "    }\n",
       "</style>\n",
       "<table border=\"1\" class=\"dataframe\">\n",
       "  <thead>\n",
       "    <tr style=\"text-align: right;\">\n",
       "      <th></th>\n",
       "      <th>Unnamed: 0</th>\n",
       "      <th>Net m²</th>\n",
       "      <th>Brüt m²</th>\n",
       "      <th>Binadaki Kat Sayısı</th>\n",
       "      <th>Isıtma Tipi</th>\n",
       "      <th>Bulunduğu Kat</th>\n",
       "      <th>Bina Yaşı</th>\n",
       "      <th>Mobilya Durumu</th>\n",
       "      <th>Kullanım Durumu</th>\n",
       "      <th>Krediye Uygun</th>\n",
       "      <th>...</th>\n",
       "      <th>Video Home Tour\\n                                                                ?</th>\n",
       "      <th>Unit Exchange</th>\n",
       "      <th>Pet Friendly Paws Houses</th>\n",
       "      <th>Layout</th>\n",
       "      <th>Parcelled</th>\n",
       "      <th>Fiyat</th>\n",
       "      <th>İl</th>\n",
       "      <th>İlçe</th>\n",
       "      <th>Mahalle</th>\n",
       "      <th>Oda</th>\n",
       "    </tr>\n",
       "  </thead>\n",
       "  <tbody>\n",
       "    <tr>\n",
       "      <th>0</th>\n",
       "      <td>0</td>\n",
       "      <td>100</td>\n",
       "      <td>110m²</td>\n",
       "      <td>7</td>\n",
       "      <td>Kombi (Doğalgaz)</td>\n",
       "      <td>3</td>\n",
       "      <td>26-30 arası</td>\n",
       "      <td>Eşyasız</td>\n",
       "      <td>Boş</td>\n",
       "      <td>Hayır</td>\n",
       "      <td>...</td>\n",
       "      <td>NaN</td>\n",
       "      <td>NaN</td>\n",
       "      <td>NaN</td>\n",
       "      <td>NaN</td>\n",
       "      <td>NaN</td>\n",
       "      <td>1350000</td>\n",
       "      <td>İstanbul</td>\n",
       "      <td>Bağcılar</td>\n",
       "      <td>Çınar</td>\n",
       "      <td>2 + 1</td>\n",
       "    </tr>\n",
       "    <tr>\n",
       "      <th>1</th>\n",
       "      <td>1</td>\n",
       "      <td>105</td>\n",
       "      <td>115m²</td>\n",
       "      <td>5</td>\n",
       "      <td>Kombi (Doğalgaz)</td>\n",
       "      <td>3</td>\n",
       "      <td>0</td>\n",
       "      <td>Eşyasız</td>\n",
       "      <td>Boş</td>\n",
       "      <td>Evet</td>\n",
       "      <td>...</td>\n",
       "      <td>NaN</td>\n",
       "      <td>NaN</td>\n",
       "      <td>NaN</td>\n",
       "      <td>NaN</td>\n",
       "      <td>NaN</td>\n",
       "      <td>927000</td>\n",
       "      <td>İstanbul</td>\n",
       "      <td>Beylikdüzü</td>\n",
       "      <td>Cumhuriyet</td>\n",
       "      <td>2 + 1</td>\n",
       "    </tr>\n",
       "    <tr>\n",
       "      <th>2</th>\n",
       "      <td>2</td>\n",
       "      <td>150</td>\n",
       "      <td>170m²</td>\n",
       "      <td>10-20 arası</td>\n",
       "      <td>Klima</td>\n",
       "      <td>8</td>\n",
       "      <td>11-15 arası</td>\n",
       "      <td>Eşyasız</td>\n",
       "      <td>Boş</td>\n",
       "      <td>Evet</td>\n",
       "      <td>...</td>\n",
       "      <td>NaN</td>\n",
       "      <td>NaN</td>\n",
       "      <td>NaN</td>\n",
       "      <td>NaN</td>\n",
       "      <td>NaN</td>\n",
       "      <td>2300000</td>\n",
       "      <td>İstanbul</td>\n",
       "      <td>Beylikdüzü</td>\n",
       "      <td>Barış</td>\n",
       "      <td>3 + 1</td>\n",
       "    </tr>\n",
       "    <tr>\n",
       "      <th>3</th>\n",
       "      <td>3</td>\n",
       "      <td>100</td>\n",
       "      <td>110m²</td>\n",
       "      <td>5</td>\n",
       "      <td>Klima</td>\n",
       "      <td>2</td>\n",
       "      <td>0</td>\n",
       "      <td>Sadece Beyaz Eşya</td>\n",
       "      <td>Boş</td>\n",
       "      <td>Evet</td>\n",
       "      <td>...</td>\n",
       "      <td>NaN</td>\n",
       "      <td>NaN</td>\n",
       "      <td>NaN</td>\n",
       "      <td>NaN</td>\n",
       "      <td>NaN</td>\n",
       "      <td>2800000</td>\n",
       "      <td>İstanbul</td>\n",
       "      <td>Beylikdüzü</td>\n",
       "      <td>Dereağzı</td>\n",
       "      <td>2 + 1</td>\n",
       "    </tr>\n",
       "    <tr>\n",
       "      <th>4</th>\n",
       "      <td>4</td>\n",
       "      <td>100</td>\n",
       "      <td>120m²</td>\n",
       "      <td>5</td>\n",
       "      <td>Klima</td>\n",
       "      <td>2</td>\n",
       "      <td>3</td>\n",
       "      <td>Sadece Beyaz Eşya</td>\n",
       "      <td>Boş</td>\n",
       "      <td>Evet</td>\n",
       "      <td>...</td>\n",
       "      <td>NaN</td>\n",
       "      <td>NaN</td>\n",
       "      <td>NaN</td>\n",
       "      <td>NaN</td>\n",
       "      <td>NaN</td>\n",
       "      <td>2623000</td>\n",
       "      <td>İstanbul</td>\n",
       "      <td>Beylikdüzü</td>\n",
       "      <td>Dereağzı</td>\n",
       "      <td>2 + 1</td>\n",
       "    </tr>\n",
       "  </tbody>\n",
       "</table>\n",
       "<p>5 rows × 40 columns</p>\n",
       "</div>"
      ],
      "text/plain": [
       "   Unnamed: 0 Net m² Brüt m² Binadaki Kat Sayısı       Isıtma Tipi  \\\n",
       "0           0    100   110m²                   7  Kombi (Doğalgaz)   \n",
       "1           1    105   115m²                   5  Kombi (Doğalgaz)   \n",
       "2           2    150   170m²         10-20 arası             Klima   \n",
       "3           3    100   110m²                   5             Klima   \n",
       "4           4    100   120m²                   5             Klima   \n",
       "\n",
       "  Bulunduğu Kat    Bina Yaşı     Mobilya Durumu Kullanım Durumu Krediye Uygun  \\\n",
       "0             3  26-30 arası            Eşyasız             Boş         Hayır   \n",
       "1             3            0            Eşyasız             Boş          Evet   \n",
       "2             8  11-15 arası            Eşyasız             Boş          Evet   \n",
       "3             2            0  Sadece Beyaz Eşya             Boş          Evet   \n",
       "4             2            3  Sadece Beyaz Eşya             Boş          Evet   \n",
       "\n",
       "   ...  \\\n",
       "0  ...   \n",
       "1  ...   \n",
       "2  ...   \n",
       "3  ...   \n",
       "4  ...   \n",
       "\n",
       "  Video Home Tour\\n                                                                ?  \\\n",
       "0                                                NaN                                   \n",
       "1                                                NaN                                   \n",
       "2                                                NaN                                   \n",
       "3                                                NaN                                   \n",
       "4                                                NaN                                   \n",
       "\n",
       "  Unit Exchange Pet Friendly Paws Houses  Layout Parcelled    Fiyat        İl  \\\n",
       "0           NaN                      NaN     NaN       NaN  1350000  İstanbul   \n",
       "1           NaN                      NaN     NaN       NaN   927000  İstanbul   \n",
       "2           NaN                      NaN     NaN       NaN  2300000  İstanbul   \n",
       "3           NaN                      NaN     NaN       NaN  2800000  İstanbul   \n",
       "4           NaN                      NaN     NaN       NaN  2623000  İstanbul   \n",
       "\n",
       "         İlçe     Mahalle      Oda  \n",
       "0    Bağcılar       Çınar   2 + 1   \n",
       "1  Beylikdüzü  Cumhuriyet   2 + 1   \n",
       "2  Beylikdüzü       Barış   3 + 1   \n",
       "3  Beylikdüzü    Dereağzı   2 + 1   \n",
       "4  Beylikdüzü    Dereağzı   2 + 1   \n",
       "\n",
       "[5 rows x 40 columns]"
      ]
     },
     "execution_count": 3,
     "metadata": {},
     "output_type": "execute_result"
    }
   ],
   "source": [
    "df.head()"
   ]
  },
  {
   "cell_type": "code",
   "execution_count": 4,
   "id": "dc9daa7e",
   "metadata": {},
   "outputs": [
    {
     "data": {
      "text/plain": [
       "Index(['Unnamed: 0', 'Net m²', 'Brüt m²', 'Binadaki Kat Sayısı', 'Isıtma Tipi',\n",
       "       'Bulunduğu Kat', 'Bina Yaşı', 'Mobilya Durumu', 'Kullanım Durumu',\n",
       "       'Krediye Uygun', 'Hayvan Dostu Patili Evler', 'Ada', 'Parsel',\n",
       "       'Listing No', 'Gross m²', 'Number of Rooms', 'Number of Bathrooms',\n",
       "       'Floor', 'Suitable for Bank Loan', 'Number of Floors of the Building',\n",
       "       'Heating Type', 'Age of the Building', 'Furnishing Status',\n",
       "       'Usage Status', 'Status of the Property', 'Maintenance Fee',\n",
       "       'Rental Income', 'From Whom', 'Title Deed Status', 'House Type',\n",
       "       'Video Home Tour\\n                                                                ?',\n",
       "       'Unit Exchange', 'Pet Friendly Paws Houses', 'Layout', 'Parcelled',\n",
       "       'Fiyat', 'İl', 'İlçe', 'Mahalle', 'Oda'],\n",
       "      dtype='object')"
      ]
     },
     "execution_count": 4,
     "metadata": {},
     "output_type": "execute_result"
    }
   ],
   "source": [
    "df.columns"
   ]
  },
  {
   "cell_type": "code",
   "execution_count": 5,
   "id": "c394cccd",
   "metadata": {},
   "outputs": [],
   "source": [
    "df.drop(['Unnamed: 0','Hayvan Dostu Patili Evler', 'Ada', 'Parsel',\n",
    "       'Listing No', 'Gross m²', 'Number of Rooms', 'Number of Bathrooms',\n",
    "       'Floor', 'Suitable for Bank Loan', 'Number of Floors of the Building',\n",
    "       'Heating Type', 'Age of the Building', 'Furnishing Status',\n",
    "       'Usage Status', 'Status of the Property', 'Maintenance Fee',\n",
    "       'Rental Income', 'From Whom', 'Title Deed Status', 'House Type',\n",
    "       'Video Home Tour\\n                                                                ?',\n",
    "       'Unit Exchange', 'Pet Friendly Paws Houses', 'Layout', 'Parcelled','Bulunduğu Kat'],\n",
    "       axis=1, inplace=True)"
   ]
  },
  {
   "cell_type": "code",
   "execution_count": 6,
   "id": "24d06d72",
   "metadata": {},
   "outputs": [
    {
     "data": {
      "text/html": [
       "<div>\n",
       "<style scoped>\n",
       "    .dataframe tbody tr th:only-of-type {\n",
       "        vertical-align: middle;\n",
       "    }\n",
       "\n",
       "    .dataframe tbody tr th {\n",
       "        vertical-align: top;\n",
       "    }\n",
       "\n",
       "    .dataframe thead th {\n",
       "        text-align: right;\n",
       "    }\n",
       "</style>\n",
       "<table border=\"1\" class=\"dataframe\">\n",
       "  <thead>\n",
       "    <tr style=\"text-align: right;\">\n",
       "      <th></th>\n",
       "      <th>Net m²</th>\n",
       "      <th>Brüt m²</th>\n",
       "      <th>Binadaki Kat Sayısı</th>\n",
       "      <th>Isıtma Tipi</th>\n",
       "      <th>Bina Yaşı</th>\n",
       "      <th>Mobilya Durumu</th>\n",
       "      <th>Kullanım Durumu</th>\n",
       "      <th>Krediye Uygun</th>\n",
       "      <th>Fiyat</th>\n",
       "      <th>İl</th>\n",
       "      <th>İlçe</th>\n",
       "      <th>Mahalle</th>\n",
       "      <th>Oda</th>\n",
       "    </tr>\n",
       "  </thead>\n",
       "  <tbody>\n",
       "    <tr>\n",
       "      <th>0</th>\n",
       "      <td>100</td>\n",
       "      <td>110m²</td>\n",
       "      <td>7</td>\n",
       "      <td>Kombi (Doğalgaz)</td>\n",
       "      <td>26-30 arası</td>\n",
       "      <td>Eşyasız</td>\n",
       "      <td>Boş</td>\n",
       "      <td>Hayır</td>\n",
       "      <td>1350000</td>\n",
       "      <td>İstanbul</td>\n",
       "      <td>Bağcılar</td>\n",
       "      <td>Çınar</td>\n",
       "      <td>2 + 1</td>\n",
       "    </tr>\n",
       "    <tr>\n",
       "      <th>1</th>\n",
       "      <td>105</td>\n",
       "      <td>115m²</td>\n",
       "      <td>5</td>\n",
       "      <td>Kombi (Doğalgaz)</td>\n",
       "      <td>0</td>\n",
       "      <td>Eşyasız</td>\n",
       "      <td>Boş</td>\n",
       "      <td>Evet</td>\n",
       "      <td>927000</td>\n",
       "      <td>İstanbul</td>\n",
       "      <td>Beylikdüzü</td>\n",
       "      <td>Cumhuriyet</td>\n",
       "      <td>2 + 1</td>\n",
       "    </tr>\n",
       "    <tr>\n",
       "      <th>2</th>\n",
       "      <td>150</td>\n",
       "      <td>170m²</td>\n",
       "      <td>10-20 arası</td>\n",
       "      <td>Klima</td>\n",
       "      <td>11-15 arası</td>\n",
       "      <td>Eşyasız</td>\n",
       "      <td>Boş</td>\n",
       "      <td>Evet</td>\n",
       "      <td>2300000</td>\n",
       "      <td>İstanbul</td>\n",
       "      <td>Beylikdüzü</td>\n",
       "      <td>Barış</td>\n",
       "      <td>3 + 1</td>\n",
       "    </tr>\n",
       "    <tr>\n",
       "      <th>3</th>\n",
       "      <td>100</td>\n",
       "      <td>110m²</td>\n",
       "      <td>5</td>\n",
       "      <td>Klima</td>\n",
       "      <td>0</td>\n",
       "      <td>Sadece Beyaz Eşya</td>\n",
       "      <td>Boş</td>\n",
       "      <td>Evet</td>\n",
       "      <td>2800000</td>\n",
       "      <td>İstanbul</td>\n",
       "      <td>Beylikdüzü</td>\n",
       "      <td>Dereağzı</td>\n",
       "      <td>2 + 1</td>\n",
       "    </tr>\n",
       "    <tr>\n",
       "      <th>4</th>\n",
       "      <td>100</td>\n",
       "      <td>120m²</td>\n",
       "      <td>5</td>\n",
       "      <td>Klima</td>\n",
       "      <td>3</td>\n",
       "      <td>Sadece Beyaz Eşya</td>\n",
       "      <td>Boş</td>\n",
       "      <td>Evet</td>\n",
       "      <td>2623000</td>\n",
       "      <td>İstanbul</td>\n",
       "      <td>Beylikdüzü</td>\n",
       "      <td>Dereağzı</td>\n",
       "      <td>2 + 1</td>\n",
       "    </tr>\n",
       "  </tbody>\n",
       "</table>\n",
       "</div>"
      ],
      "text/plain": [
       "  Net m² Brüt m² Binadaki Kat Sayısı       Isıtma Tipi    Bina Yaşı  \\\n",
       "0    100   110m²                   7  Kombi (Doğalgaz)  26-30 arası   \n",
       "1    105   115m²                   5  Kombi (Doğalgaz)            0   \n",
       "2    150   170m²         10-20 arası             Klima  11-15 arası   \n",
       "3    100   110m²                   5             Klima            0   \n",
       "4    100   120m²                   5             Klima            3   \n",
       "\n",
       "      Mobilya Durumu Kullanım Durumu Krediye Uygun    Fiyat        İl  \\\n",
       "0            Eşyasız             Boş         Hayır  1350000  İstanbul   \n",
       "1            Eşyasız             Boş          Evet   927000  İstanbul   \n",
       "2            Eşyasız             Boş          Evet  2300000  İstanbul   \n",
       "3  Sadece Beyaz Eşya             Boş          Evet  2800000  İstanbul   \n",
       "4  Sadece Beyaz Eşya             Boş          Evet  2623000  İstanbul   \n",
       "\n",
       "         İlçe     Mahalle      Oda  \n",
       "0    Bağcılar       Çınar   2 + 1   \n",
       "1  Beylikdüzü  Cumhuriyet   2 + 1   \n",
       "2  Beylikdüzü       Barış   3 + 1   \n",
       "3  Beylikdüzü    Dereağzı   2 + 1   \n",
       "4  Beylikdüzü    Dereağzı   2 + 1   "
      ]
     },
     "execution_count": 6,
     "metadata": {},
     "output_type": "execute_result"
    }
   ],
   "source": [
    "df.head()"
   ]
  },
  {
   "cell_type": "code",
   "execution_count": 7,
   "id": "0be1ad85",
   "metadata": {},
   "outputs": [
    {
     "data": {
      "text/plain": [
       "array(['7', '5', '10-20 arası', '6', nan, '3', '4', '9', '20 ve üzeri',\n",
       "       '10', '8', '2', 'Between 10-20', '1', '20+'], dtype=object)"
      ]
     },
     "execution_count": 7,
     "metadata": {},
     "output_type": "execute_result"
    }
   ],
   "source": [
    "df[\"Binadaki Kat Sayısı\"].unique()"
   ]
  },
  {
   "cell_type": "code",
   "execution_count": 8,
   "id": "b4e80d41",
   "metadata": {},
   "outputs": [
    {
     "data": {
      "text/plain": [
       "array(['Kombi (Doğalgaz)', 'Klima', nan, 'Yerden Isıtma',\n",
       "       'Kalorifer (Doğalgaz)', 'Merkezi Sistem',\n",
       "       'Merkezi Sistem (Isı Payı Ölçer)', 'Soba (Doğalgaz)',\n",
       "       'Combi Boiler (Natural Gas)', 'Central System (Heat Share Meter)',\n",
       "       'Central System', 'Soba (Kömür)', 'Fancoil', 'Jeotermal', 'Yok',\n",
       "       'Kat Kaloriferi', 'Kombi (Elektrikli)', 'Kalorifer (Akaryakıt)',\n",
       "       'Air Conditioner', 'Floor Heating', 'Kalorifer (Kömür)',\n",
       "       'Güneş Enerjisi', 'None', 'Combi Boiler (Electric)',\n",
       "       'Independent Boiler', 'Central Heating (Natural Gas)',\n",
       "       'Stove (Natural Gas)', 'Solar Power', 'Central Heating (Coal)',\n",
       "       'Stove (Coal)'], dtype=object)"
      ]
     },
     "execution_count": 8,
     "metadata": {},
     "output_type": "execute_result"
    }
   ],
   "source": [
    "df[\"Isıtma Tipi\"].unique()"
   ]
  },
  {
   "cell_type": "code",
   "execution_count": 9,
   "id": "5d23a106",
   "metadata": {},
   "outputs": [
    {
     "data": {
      "text/plain": [
       "array(['26-30 arası', '0', '11-15 arası', '3', '5', nan, '4',\n",
       "       '6-10 arası', '1', '16-20 arası', '36-40 arası', '2',\n",
       "       '21-25 arası', '31-35 arası', '40 ve üzeri', 'Between 6-10',\n",
       "       'Between 26-30', 'Between 16-20', 'Between 11-15', 'Between 21-25',\n",
       "       'Between 36-40', '40+', 'Between 31-35'], dtype=object)"
      ]
     },
     "execution_count": 9,
     "metadata": {},
     "output_type": "execute_result"
    }
   ],
   "source": [
    "df[\"Bina Yaşı\"].unique()"
   ]
  },
  {
   "cell_type": "code",
   "execution_count": 10,
   "id": "f3db9ccb",
   "metadata": {},
   "outputs": [
    {
     "data": {
      "text/plain": [
       "array(['Eşyasız', 'Sadece Beyaz Eşya', nan, 'Eşyalı (Mobilyalı)',\n",
       "       'Sadece Mutfak', 'Unfurnished', 'Only Major Appliances',\n",
       "       'Kitchen Only', 'Furnished'], dtype=object)"
      ]
     },
     "execution_count": 10,
     "metadata": {},
     "output_type": "execute_result"
    }
   ],
   "source": [
    "df[\"Mobilya Durumu\"].unique()"
   ]
  },
  {
   "cell_type": "code",
   "execution_count": 11,
   "id": "659d7366",
   "metadata": {},
   "outputs": [
    {
     "data": {
      "text/plain": [
       "array(['Hayır', 'Evet', 'Yes', nan], dtype=object)"
      ]
     },
     "execution_count": 11,
     "metadata": {},
     "output_type": "execute_result"
    }
   ],
   "source": [
    "df[\"Krediye Uygun\"].unique()"
   ]
  },
  {
   "cell_type": "code",
   "execution_count": 12,
   "id": "1a3e655b",
   "metadata": {},
   "outputs": [
    {
     "data": {
      "text/plain": [
       "array([' 2 + 1 ', ' 3 + 1 ', ' 1 + 1 ', ' 4 + 1 ', ' 5 + 1 ', ' 5 + 2 ',\n",
       "       ' 3 + 2 ', ' 2 + 2 ', ' 4 + 2 ', ' 1 + 0 ', ' 6 + 1 ', ' 6 + 2 ',\n",
       "       ' 7 + 2 ', 'Evet', ' 7 + 1 ', ' 8 + 1 ', ' 2 + 0 ',\n",
       "       ' 10 ve üzeri ', ' 9 + 2 ', ' 4 + 4 ', ' 6 + 3 ', ' 4 + 3 ',\n",
       "       ' 9 + 1 ', ' 9 + 3 ', ' 7 + 3 ', ' 8 + 2 ', 'Hayır', ' 8 + 4 ',\n",
       "       ' 8 + 3 ', ' 5 + 3 '], dtype=object)"
      ]
     },
     "execution_count": 12,
     "metadata": {},
     "output_type": "execute_result"
    }
   ],
   "source": [
    "df[\"Oda\"].unique()"
   ]
  },
  {
   "cell_type": "code",
   "execution_count": 13,
   "id": "01b800e9",
   "metadata": {},
   "outputs": [],
   "source": [
    "df['Brüt m²'] = df['Brüt m²'].replace('m²', '', regex=True)"
   ]
  },
  {
   "cell_type": "code",
   "execution_count": 14,
   "id": "a2b717e7",
   "metadata": {},
   "outputs": [],
   "source": [
    "df.loc[df[\"Bina Yaşı\"] == \"6-10 arası\" , \"Bina Yaşı\"] = 8\n",
    "df.loc[df[\"Bina Yaşı\"] == \"11-15 arası\" , \"Bina Yaşı\"] = 13\n",
    "df.loc[df[\"Bina Yaşı\"] == \"16-20 arası\" , \"Bina Yaşı\"] = 18\n",
    "df.loc[df[\"Bina Yaşı\"] == \"21-25 arası\" , \"Bina Yaşı\"] = 23\n",
    "df.loc[df[\"Bina Yaşı\"] == \"26-30 arası\" , \"Bina Yaşı\"] = 28\n",
    "df.loc[df[\"Bina Yaşı\"] == \"31-35 arası\" , \"Bina Yaşı\"] = 33\n",
    "df.loc[df[\"Bina Yaşı\"] == \"36-40 arası\" , \"Bina Yaşı\"] = 38\n",
    "df.loc[df[\"Bina Yaşı\"] == \"40 ve üzeri\" , \"Bina Yaşı\"] = 43\n",
    "\n",
    "df.loc[df[\"Bina Yaşı\"] == \"Between 6-10\" , \"Bina Yaşı\"] = 8\n",
    "df.loc[df[\"Bina Yaşı\"] == \"Between 11-15\" , \"Bina Yaşı\"] = 13\n",
    "df.loc[df[\"Bina Yaşı\"] == \"Between 16-20\" , \"Bina Yaşı\"] = 18\n",
    "df.loc[df[\"Bina Yaşı\"] == \"Between 21-25\" , \"Bina Yaşı\"] = 23\n",
    "df.loc[df[\"Bina Yaşı\"] == \"Between 26-30\" , \"Bina Yaşı\"] = 28\n",
    "df.loc[df[\"Bina Yaşı\"] == \"Between 31-35\" , \"Bina Yaşı\"] = 33\n",
    "df.loc[df[\"Bina Yaşı\"] == \"Between 36-40\" , \"Bina Yaşı\"] = 38\n",
    "df.loc[df[\"Bina Yaşı\"] == \"40+\" , \"Bina Yaşı\"] = 43"
   ]
  },
  {
   "cell_type": "code",
   "execution_count": 15,
   "id": "67f18301",
   "metadata": {},
   "outputs": [],
   "source": [
    "df.loc[df[\"Binadaki Kat Sayısı\"] == \"10-20 arası\" , \"Binadaki Kat Sayısı\"] = 15\n",
    "df.loc[df[\"Binadaki Kat Sayısı\"] == \"20 ve üzeri\" , \"Binadaki Kat Sayısı\"] = 20\n",
    "\n",
    "df.loc[df[\"Binadaki Kat Sayısı\"] == \"Between 10-20\" , \"Binadaki Kat Sayısı\"] = 15\n",
    "df.loc[df[\"Binadaki Kat Sayısı\"] == \"20+\" , \"Binadaki Kat Sayısı\"] = 20"
   ]
  },
  {
   "cell_type": "code",
   "execution_count": 16,
   "id": "da3c14c3",
   "metadata": {},
   "outputs": [],
   "source": [
    "df.loc[df[\"Krediye Uygun\"] == \"Evet\" , \"Krediye Uygun\"] = 1\n",
    "df.loc[df[\"Krediye Uygun\"] == \"Yes\" , \"Krediye Uygun\"] = 1\n",
    "df.loc[df[\"Krediye Uygun\"] == \"Hayır\" , \"Krediye Uygun\"] = 0"
   ]
  },
  {
   "cell_type": "code",
   "execution_count": 17,
   "id": "698efd7d",
   "metadata": {},
   "outputs": [],
   "source": [
    "df.loc[df[\"Mobilya Durumu\"] == \"Eşyasız\" , \"Mobilya Durumu\"] = 0\n",
    "df.loc[df[\"Mobilya Durumu\"] == \"Eşyalı (Mobilyalı)\" , \"Mobilya Durumu\"] = 1\n",
    "df.loc[df[\"Mobilya Durumu\"] == \"Sadece Beyaz Eşya\" , \"Mobilya Durumu\"] = 2\n",
    "df.loc[df[\"Mobilya Durumu\"] == \"Sadece Mutfak\" , \"Mobilya Durumu\"] = 3\n",
    "\n",
    "df.loc[df[\"Mobilya Durumu\"] == \"Unfurnished\" , \"Mobilya Durumu\"] = 0\n",
    "df.loc[df[\"Mobilya Durumu\"] == \"Furnished\" , \"Mobilya Durumu\"] = 1\n",
    "df.loc[df[\"Mobilya Durumu\"] == \"Only Major Appliances\" , \"Mobilya Durumu\"] = 2\n",
    "df.loc[df[\"Mobilya Durumu\"] == \"Kitchen Only\" , \"Mobilya Durumu\"] = 3\n",
    "\n",
    "df[\"Mobilya Durumu\"] = df[\"Mobilya Durumu\"].fillna(4)"
   ]
  },
  {
   "cell_type": "code",
   "execution_count": 18,
   "id": "27aa9f8f",
   "metadata": {},
   "outputs": [],
   "source": [
    "df.loc[df[\"Kullanım Durumu\"] == \"Boş\" , \"Kullanım Durumu\"] = 0 \n",
    "df.loc[df[\"Kullanım Durumu\"] == \"Mülk Sahibi\" , \"Kullanım Durumu\"] = 1\n",
    "df.loc[df[\"Kullanım Durumu\"] == \"Kiracılı\" , \"Kullanım Durumu\"] = 2\n",
    "\n",
    "df.loc[df[\"Kullanım Durumu\"] == \"Vacant\" , \"Kullanım Durumu\"] = 0 \n",
    "df.loc[df[\"Kullanım Durumu\"] == \"Occupied By Property Owner\" , \"Kullanım Durumu\"] = 1\n",
    "df.loc[df[\"Kullanım Durumu\"] == \"Occupied By Tenant\" , \"Kullanım Durumu\"] = 2\n",
    "\n",
    "df[\"Kullanım Durumu\"] = df[\"Kullanım Durumu\"].fillna(3)"
   ]
  },
  {
   "cell_type": "code",
   "execution_count": 19,
   "id": "ddd18b61",
   "metadata": {},
   "outputs": [],
   "source": [
    "df.loc[df[\"Isıtma Tipi\"] == \"-\" , \"Isıtma Tipi\"] = 0\n",
    "df.loc[df[\"Isıtma Tipi\"] == \"Yok\" , \"Isıtma Tipi\"] = 0\n",
    "\n",
    "df.loc[df[\"Isıtma Tipi\"] == \"Soba (Doğalgaz)\" , \"Isıtma Tipi\"] = 1\n",
    "df.loc[df[\"Isıtma Tipi\"] == \"Soba (Kömür)\" , \"Isıtma Tipi\"] = 1\n",
    "\n",
    "df.loc[df[\"Isıtma Tipi\"] == \"Merkezi Sistem\" , \"Isıtma Tipi\"] = 2\n",
    "df.loc[df[\"Isıtma Tipi\"] == \"Kat Kaloriferi\" , \"Isıtma Tipi\"] = 2\n",
    "df.loc[df[\"Isıtma Tipi\"] == \"Merkezi Sistem (Isı Payı Ölçer)\" , \"Isıtma Tipi\"] = 2\n",
    "df.loc[df[\"Isıtma Tipi\"] == \"Kombi (Doğalgaz)\" , \"Isıtma Tipi\"] = 2\n",
    "df.loc[df[\"Isıtma Tipi\"] == \"Kalorifer (Doğalgaz)\" , \"Isıtma Tipi\"] = 2\n",
    "df.loc[df[\"Isıtma Tipi\"] == \"Kombi (Elektrikli)\" , \"Isıtma Tipi\"] = 2\n",
    "df.loc[df[\"Isıtma Tipi\"] == \"Kalorifer (Akaryakıt)\" , \"Isıtma Tipi\"] = 2\n",
    "df.loc[df[\"Isıtma Tipi\"] == \"Kalorifer (Kömür)\" , \"Isıtma Tipi\"] = 2\n",
    "\n",
    "df.loc[df[\"Isıtma Tipi\"] == \"Yerden Isıtma\" , \"Isıtma Tipi\"] = 3\n",
    "df.loc[df[\"Isıtma Tipi\"] == \"Güneş Enerjisi\" , \"Isıtma Tipi\"] = 3\n",
    "df.loc[df[\"Isıtma Tipi\"] == \"Jeotermal\" , \"Isıtma Tipi\"] = 3\n",
    "df.loc[df[\"Isıtma Tipi\"] == \"Klima\" , \"Isıtma Tipi\"] = 3\n",
    "\n",
    "\n",
    "df.loc[df[\"Isıtma Tipi\"] == \"None\" , \"Isıtma Tipi\"] = 0\n",
    "\n",
    "df.loc[df[\"Isıtma Tipi\"] == \"Stove (Natural Gas)\" , \"Isıtma Tipi\"] = 1\n",
    "df.loc[df[\"Isıtma Tipi\"] == \"Stove (Coal)\" , \"Isıtma Tipi\"] = 1\n",
    "\n",
    "df.loc[df[\"Isıtma Tipi\"] == \"Central System\" , \"Isıtma Tipi\"] = 2\n",
    "df.loc[df[\"Isıtma Tipi\"] == \"Central Heating (Natural Gas)\" , \"Isıtma Tipi\"] = 2\n",
    "df.loc[df[\"Isıtma Tipi\"] == \"Central System (Heat Share Meter)\" , \"Isıtma Tipi\"] = 2\n",
    "df.loc[df[\"Isıtma Tipi\"] == \"Fancoil\" , \"Isıtma Tipi\"] = 2\n",
    "df.loc[df[\"Isıtma Tipi\"] == \"Independent Boiler\" , \"Isıtma Tipi\"] = 2\n",
    "df.loc[df[\"Isıtma Tipi\"] == \"Combi Boiler (Natural Gas)\" , \"Isıtma Tipi\"] = 2\n",
    "df.loc[df[\"Isıtma Tipi\"] == \"Combi Boiler (Electric)\" , \"Isıtma Tipi\"] = 2\n",
    "df.loc[df[\"Isıtma Tipi\"] == \"Central Heating (Coal)\" , \"Isıtma Tipi\"] = 2\n",
    "\n",
    "df.loc[df[\"Isıtma Tipi\"] == \"Floor Heating\" , \"Isıtma Tipi\"] = 3\n",
    "df.loc[df[\"Isıtma Tipi\"] == \"Solar Power\" , \"Isıtma Tipi\"] = 3\n",
    "df.loc[df[\"Isıtma Tipi\"] == \"Geothermal\" , \"Isıtma Tipi\"] = 3\n",
    "df.loc[df[\"Isıtma Tipi\"] == \"Air Conditioner\" , \"Isıtma Tipi\"] = 3\n",
    "\n",
    "df[\"Isıtma Tipi\"] = df[\"Isıtma Tipi\"].fillna(\"0\")"
   ]
  },
  {
   "cell_type": "code",
   "execution_count": 20,
   "id": "051d5988",
   "metadata": {},
   "outputs": [],
   "source": [
    "df.loc[df[\"Oda\"] == \" 3 + 1 \" , \"Oda\"] = 4\n",
    "df.loc[df[\"Oda\"] == \" 2 + 1 \" , \"Oda\"] = 3\n",
    "df.loc[df[\"Oda\"] == \" 4 + 1 \" , \"Oda\"] = 5\n",
    "df.loc[df[\"Oda\"] == \" 1 + 1 \" , \"Oda\"] = 2\n",
    "df.loc[df[\"Oda\"] == \" 5 + 1 \" , \"Oda\"] = 6\n",
    "df.loc[df[\"Oda\"] == \" 4 + 2 \" , \"Oda\"] = 6\n",
    "df.loc[df[\"Oda\"] == \" 5 + 2 \" , \"Oda\"] = 7\n",
    "df.loc[df[\"Oda\"] == \" 6 + 1 \" , \"Oda\"] = 7\n",
    "df.loc[df[\"Oda\"] == \" 2 + 0 \" , \"Oda\"] = 2\n",
    "df.loc[df[\"Oda\"] == \" 3 + 2 \" , \"Oda\"] = 5\n",
    "df.loc[df[\"Oda\"] == \" 6 + 2 \" , \"Oda\"] = 8\n",
    "df.loc[df[\"Oda\"] == \" 1 + 0 \" , \"Oda\"] = 1\n",
    "df.loc[df[\"Oda\"] == \" 2 + 2 \" , \"Oda\"] = 4\n",
    "df.loc[df[\"Oda\"] == \" 7 + 1 \" , \"Oda\"] = 8\n",
    "df.loc[df[\"Oda\"] == \" 7 + 2 \" , \"Oda\"] = 9\n",
    "df.loc[df[\"Oda\"] == \" 4 + 3 \" , \"Oda\"] = 7\n",
    "df.loc[df[\"Oda\"] == \" 10 ve üzeri \" , \"Oda\"] = 10\n",
    "df.loc[df[\"Oda\"] == \" 8 + 1 \" , \"Oda\"] = 9\n",
    "df.loc[df[\"Oda\"] == \" 4 + 4 \" , \"Oda\"] = 8\n",
    "df.loc[df[\"Oda\"] == \" 6 + 3 \" , \"Oda\"] = 9\n",
    "df.loc[df[\"Oda\"] == \" 9 + 2 \" , \"Oda\"] = 10\n",
    "df.loc[df[\"Oda\"] == \" 8 + 2 \" , \"Oda\"] = 10\n",
    "df.loc[df[\"Oda\"] == \" 9 + 3 \" , \"Oda\"] = 10\n",
    "df.loc[df[\"Oda\"] == \" 9 + 1 \" , \"Oda\"] = 10\n",
    "df.loc[df[\"Oda\"] == \" 8 + 3 \" , \"Oda\"] = 10\n",
    "df.loc[df[\"Oda\"] == \" 7 + 3 \" , \"Oda\"] = 10\n",
    "df.loc[df[\"Oda\"] == \" 5 + 3 \" , \"Oda\"] = 8"
   ]
  },
  {
   "cell_type": "code",
   "execution_count": 21,
   "id": "8fc33d62",
   "metadata": {},
   "outputs": [],
   "source": [
    "df = df.dropna()"
   ]
  },
  {
   "cell_type": "code",
   "execution_count": 22,
   "id": "c04fa34f",
   "metadata": {},
   "outputs": [],
   "source": [
    "df = df.reset_index(drop=True)"
   ]
  },
  {
   "cell_type": "code",
   "execution_count": 23,
   "id": "f00f4856",
   "metadata": {},
   "outputs": [
    {
     "name": "stdout",
     "output_type": "stream",
     "text": [
      "<class 'pandas.core.frame.DataFrame'>\n",
      "RangeIndex: 24686 entries, 0 to 24685\n",
      "Data columns (total 13 columns):\n",
      " #   Column               Non-Null Count  Dtype \n",
      "---  ------               --------------  ----- \n",
      " 0   Net m²               24686 non-null  object\n",
      " 1   Brüt m²              24686 non-null  object\n",
      " 2   Binadaki Kat Sayısı  24686 non-null  object\n",
      " 3   Isıtma Tipi          24686 non-null  object\n",
      " 4   Bina Yaşı            24686 non-null  object\n",
      " 5   Mobilya Durumu       24686 non-null  int64 \n",
      " 6   Kullanım Durumu      24686 non-null  int64 \n",
      " 7   Krediye Uygun        24686 non-null  object\n",
      " 8   Fiyat                24686 non-null  object\n",
      " 9   İl                   24686 non-null  object\n",
      " 10  İlçe                 24686 non-null  object\n",
      " 11  Mahalle              24686 non-null  object\n",
      " 12  Oda                  24686 non-null  object\n",
      "dtypes: int64(2), object(11)\n",
      "memory usage: 2.4+ MB\n"
     ]
    }
   ],
   "source": [
    "df.info()"
   ]
  },
  {
   "cell_type": "code",
   "execution_count": 24,
   "id": "13bc58ee",
   "metadata": {},
   "outputs": [],
   "source": [
    "df[[\"Net m²\",\"Brüt m²\",\"Binadaki Kat Sayısı\",\"Isıtma Tipi\",\"Bina Yaşı\",\"Fiyat\",\"Oda\",\"Krediye Uygun\"]] = df[[\"Net m²\",\"Brüt m²\",\"Binadaki Kat Sayısı\",\"Isıtma Tipi\",\"Bina Yaşı\",\"Fiyat\",\"Oda\",\"Krediye Uygun\"]].apply(pd.to_numeric)"
   ]
  },
  {
   "cell_type": "code",
   "execution_count": 25,
   "id": "334f09f8",
   "metadata": {},
   "outputs": [
    {
     "name": "stdout",
     "output_type": "stream",
     "text": [
      "<class 'pandas.core.frame.DataFrame'>\n",
      "RangeIndex: 24686 entries, 0 to 24685\n",
      "Data columns (total 13 columns):\n",
      " #   Column               Non-Null Count  Dtype \n",
      "---  ------               --------------  ----- \n",
      " 0   Net m²               24686 non-null  int64 \n",
      " 1   Brüt m²              24686 non-null  int64 \n",
      " 2   Binadaki Kat Sayısı  24686 non-null  int64 \n",
      " 3   Isıtma Tipi          24686 non-null  int64 \n",
      " 4   Bina Yaşı            24686 non-null  int64 \n",
      " 5   Mobilya Durumu       24686 non-null  int64 \n",
      " 6   Kullanım Durumu      24686 non-null  int64 \n",
      " 7   Krediye Uygun        24686 non-null  int64 \n",
      " 8   Fiyat                24686 non-null  int64 \n",
      " 9   İl                   24686 non-null  object\n",
      " 10  İlçe                 24686 non-null  object\n",
      " 11  Mahalle              24686 non-null  object\n",
      " 12  Oda                  24686 non-null  int64 \n",
      "dtypes: int64(10), object(3)\n",
      "memory usage: 2.4+ MB\n"
     ]
    }
   ],
   "source": [
    "df.info()"
   ]
  },
  {
   "cell_type": "code",
   "execution_count": 26,
   "id": "81b87398",
   "metadata": {},
   "outputs": [],
   "source": [
    "df.columns = ['net_alan', 'brut_alan', 'kat_sayisi', 'isitma', 'bina_yasi', 'esya', 'kullanim_durumu', 'kredi_durumu','fiyat','il','ilce','mahalle','oda_sayisi']"
   ]
  },
  {
   "cell_type": "code",
   "execution_count": 27,
   "id": "f29412c6",
   "metadata": {},
   "outputs": [],
   "source": [
    "df.to_csv(\"data/zingat_preprocessed.csv\")"
   ]
  }
 ],
 "metadata": {
  "kernelspec": {
   "display_name": "Python 3 (ipykernel)",
   "language": "python",
   "name": "python3"
  },
  "language_info": {
   "codemirror_mode": {
    "name": "ipython",
    "version": 3
   },
   "file_extension": ".py",
   "mimetype": "text/x-python",
   "name": "python",
   "nbconvert_exporter": "python",
   "pygments_lexer": "ipython3",
   "version": "3.10.4"
  }
 },
 "nbformat": 4,
 "nbformat_minor": 5
}
