{
 "cells": [
  {
   "cell_type": "markdown",
   "id": "eb12144e",
   "metadata": {},
   "source": [
    "# DATA PREPROCESSING"
   ]
  },
  {
   "cell_type": "code",
   "execution_count": null,
   "id": "fbabc522",
   "metadata": {},
   "outputs": [],
   "source": [
    "import numpy as np\n",
    "import pandas as pd\n",
    "#pd.options.mode.chained_assignment = None  # default='warn'"
   ]
  },
  {
   "cell_type": "markdown",
   "id": "10362511",
   "metadata": {},
   "source": [
    "### Veri Setinin Upload Edilmesi"
   ]
  },
  {
   "cell_type": "code",
   "execution_count": null,
   "id": "221cc950",
   "metadata": {},
   "outputs": [],
   "source": [
    "df = pd.read_csv('./house_price_analysis/data/zingat_raw.csv', low_memory=False)"
   ]
  },
  {
   "cell_type": "code",
   "execution_count": null,
   "id": "68df0626",
   "metadata": {},
   "outputs": [],
   "source": [
    "df"
   ]
  },
  {
   "cell_type": "markdown",
   "id": "c3a42222",
   "metadata": {},
   "source": [
    "### Eşik Değer Belirlenmesi"
   ]
  },
  {
   "cell_type": "markdown",
   "id": "816a0b0d",
   "metadata": {},
   "source": [
    "Eşik değer ile veri setinin kolonlarında bu belirlenen eşik değerin altında kalan dummy data'ların threshold (eşik değer) kadar olanı silinir. Örneğin threshold 0.6 için veri setindeki kolonlarda %40'a kadar veri anlamsız veya null olduğu için silinir."
   ]
  },
  {
   "cell_type": "code",
   "execution_count": null,
   "id": "99e57127",
   "metadata": {},
   "outputs": [],
   "source": [
    "threshold = 0.6\n",
    "df = df[df.columns[df.isnull().mean() < threshold]]"
   ]
  },
  {
   "cell_type": "code",
   "execution_count": null,
   "id": "6047e63e",
   "metadata": {},
   "outputs": [],
   "source": [
    "df"
   ]
  },
  {
   "cell_type": "markdown",
   "id": "0575f73d",
   "metadata": {},
   "source": [
    "  >*40 kolondan 15 kolona düştü*"
   ]
  },
  {
   "cell_type": "code",
   "execution_count": null,
   "id": "5dc9a750",
   "metadata": {},
   "outputs": [],
   "source": [
    "df.columns"
   ]
  },
  {
   "cell_type": "markdown",
   "id": "15b904e3",
   "metadata": {},
   "source": [
    "###### Silinmemiş işe yaramayan 'Unnamed: 0' kolonu da silinir."
   ]
  },
  {
   "cell_type": "code",
   "execution_count": null,
   "id": "1c34cdab",
   "metadata": {},
   "outputs": [],
   "source": [
    "df.drop(['Unnamed: 0'], axis=1, inplace = True)"
   ]
  },
  {
   "cell_type": "code",
   "execution_count": null,
   "id": "73e5cd88",
   "metadata": {},
   "outputs": [],
   "source": [
    "df.head()"
   ]
  },
  {
   "cell_type": "markdown",
   "id": "6051b129",
   "metadata": {},
   "source": [
    "### Satırlardaki verilerin düzenlenmesi "
   ]
  },
  {
   "cell_type": "code",
   "execution_count": null,
   "id": "598d6008",
   "metadata": {},
   "outputs": [],
   "source": [
    "df"
   ]
  },
  {
   "cell_type": "markdown",
   "id": "47a65728",
   "metadata": {},
   "source": [
    "**Brüt m²** kolonunu altındaki verilerin sonundaki (suffix) m² karakterlerinin kaldırılır."
   ]
  },
  {
   "cell_type": "code",
   "execution_count": null,
   "id": "3693223c",
   "metadata": {},
   "outputs": [],
   "source": [
    "df['Brüt m²'] = df['Brüt m²'].replace('m²', '', regex=True)"
   ]
  },
  {
   "cell_type": "code",
   "execution_count": null,
   "id": "332eabfe",
   "metadata": {},
   "outputs": [],
   "source": [
    "df"
   ]
  },
  {
   "cell_type": "markdown",
   "id": "13384a83",
   "metadata": {},
   "source": [
    "**Binadaki Kat Sayısı** kolonunun altında bulunan satırlardaki yinelemeyen / benzersiz veriler elde edilip bu kolonun altındaki veriler düzenlenir."
   ]
  },
  {
   "cell_type": "code",
   "execution_count": null,
   "id": "524faede",
   "metadata": {},
   "outputs": [],
   "source": [
    "df[\"Binadaki Kat Sayısı\"].unique()"
   ]
  },
  {
   "cell_type": "code",
   "execution_count": null,
   "id": "4b21f0ad",
   "metadata": {},
   "outputs": [],
   "source": [
    "df.loc[df[\"Binadaki Kat Sayısı\"] == \"10-20 arası\" , \"Binadaki Kat Sayısı\"] = 15\n",
    "df.loc[df[\"Binadaki Kat Sayısı\"] == \"20 ve üzeri\" , \"Binadaki Kat Sayısı\"] = 20\n",
    "\n",
    "df.loc[df[\"Binadaki Kat Sayısı\"] == \"Between 10-20\" , \"Binadaki Kat Sayısı\"] = 15\n",
    "df.loc[df[\"Binadaki Kat Sayısı\"] == \"20+\" , \"Binadaki Kat Sayısı\"] = 20"
   ]
  },
  {
   "cell_type": "code",
   "execution_count": null,
   "id": "62b9ad68",
   "metadata": {},
   "outputs": [],
   "source": [
    "df"
   ]
  },
  {
   "cell_type": "markdown",
   "id": "fd4ec595",
   "metadata": {},
   "source": [
    "**Isıtma Tipi** kolonunun altında bulunan satırlardaki yinelemeyen / benzersiz veriler elde edilip bu kolonun altındaki veriler düzenlenir."
   ]
  },
  {
   "cell_type": "code",
   "execution_count": null,
   "id": "548d0a96",
   "metadata": {},
   "outputs": [],
   "source": [
    "df[\"Isıtma Tipi\"].unique()"
   ]
  },
  {
   "cell_type": "code",
   "execution_count": null,
   "id": "1ef0f6bc",
   "metadata": {},
   "outputs": [],
   "source": [
    "df.loc[df[\"Isıtma Tipi\"] == \"-\" , \"Isıtma Tipi\"] = 0\n",
    "df.loc[df[\"Isıtma Tipi\"] == \"Yok\" , \"Isıtma Tipi\"] = 0\n",
    "\n",
    "df.loc[df[\"Isıtma Tipi\"] == \"Soba (Doğalgaz)\" , \"Isıtma Tipi\"] = 1\n",
    "df.loc[df[\"Isıtma Tipi\"] == \"Soba (Kömür)\" , \"Isıtma Tipi\"] = 1\n",
    "\n",
    "df.loc[df[\"Isıtma Tipi\"] == \"Merkezi Sistem\" , \"Isıtma Tipi\"] = 2\n",
    "df.loc[df[\"Isıtma Tipi\"] == \"Kat Kaloriferi\" , \"Isıtma Tipi\"] = 2\n",
    "df.loc[df[\"Isıtma Tipi\"] == \"Merkezi Sistem (Isı Payı Ölçer)\" , \"Isıtma Tipi\"] = 2\n",
    "df.loc[df[\"Isıtma Tipi\"] == \"Kombi (Doğalgaz)\" , \"Isıtma Tipi\"] = 2\n",
    "df.loc[df[\"Isıtma Tipi\"] == \"Kalorifer (Doğalgaz)\" , \"Isıtma Tipi\"] = 2\n",
    "df.loc[df[\"Isıtma Tipi\"] == \"Kombi (Elektrikli)\" , \"Isıtma Tipi\"] = 2\n",
    "df.loc[df[\"Isıtma Tipi\"] == \"Kalorifer (Akaryakıt)\" , \"Isıtma Tipi\"] = 2\n",
    "df.loc[df[\"Isıtma Tipi\"] == \"Kalorifer (Kömür)\" , \"Isıtma Tipi\"] = 2\n",
    "\n",
    "df.loc[df[\"Isıtma Tipi\"] == \"Yerden Isıtma\" , \"Isıtma Tipi\"] = 3\n",
    "df.loc[df[\"Isıtma Tipi\"] == \"Güneş Enerjisi\" , \"Isıtma Tipi\"] = 3\n",
    "df.loc[df[\"Isıtma Tipi\"] == \"Jeotermal\" , \"Isıtma Tipi\"] = 3\n",
    "df.loc[df[\"Isıtma Tipi\"] == \"Klima\" , \"Isıtma Tipi\"] = 3\n",
    "\n",
    "\n",
    "df.loc[df[\"Isıtma Tipi\"] == \"None\" , \"Isıtma Tipi\"] = 0\n",
    "\n",
    "df.loc[df[\"Isıtma Tipi\"] == \"Stove (Natural Gas)\" , \"Isıtma Tipi\"] = 1\n",
    "df.loc[df[\"Isıtma Tipi\"] == \"Stove (Coal)\" , \"Isıtma Tipi\"] = 1\n",
    "\n",
    "df.loc[df[\"Isıtma Tipi\"] == \"Central System\" , \"Isıtma Tipi\"] = 2\n",
    "df.loc[df[\"Isıtma Tipi\"] == \"Central Heating (Natural Gas)\" , \"Isıtma Tipi\"] = 2\n",
    "df.loc[df[\"Isıtma Tipi\"] == \"Central System (Heat Share Meter)\" , \"Isıtma Tipi\"] = 2\n",
    "df.loc[df[\"Isıtma Tipi\"] == \"Fancoil\" , \"Isıtma Tipi\"] = 2\n",
    "df.loc[df[\"Isıtma Tipi\"] == \"Independent Boiler\" , \"Isıtma Tipi\"] = 2\n",
    "df.loc[df[\"Isıtma Tipi\"] == \"Combi Boiler (Natural Gas)\" , \"Isıtma Tipi\"] = 2\n",
    "df.loc[df[\"Isıtma Tipi\"] == \"Combi Boiler (Electric)\" , \"Isıtma Tipi\"] = 2\n",
    "df.loc[df[\"Isıtma Tipi\"] == \"Central Heating (Coal)\" , \"Isıtma Tipi\"] = 2\n",
    "\n",
    "df.loc[df[\"Isıtma Tipi\"] == \"Floor Heating\" , \"Isıtma Tipi\"] = 3\n",
    "df.loc[df[\"Isıtma Tipi\"] == \"Solar Power\" , \"Isıtma Tipi\"] = 3\n",
    "df.loc[df[\"Isıtma Tipi\"] == \"Geothermal\" , \"Isıtma Tipi\"] = 3\n",
    "df.loc[df[\"Isıtma Tipi\"] == \"Air Conditioner\" , \"Isıtma Tipi\"] = 3\n",
    "\n",
    "df[\"Isıtma Tipi\"] = df[\"Isıtma Tipi\"].fillna(\"0\")"
   ]
  },
  {
   "cell_type": "code",
   "execution_count": null,
   "id": "bfda749f",
   "metadata": {},
   "outputs": [],
   "source": [
    "df"
   ]
  },
  {
   "cell_type": "markdown",
   "id": "694cd58d",
   "metadata": {},
   "source": [
    "**Bulunduğu Kat** kolonunun altında bulunan satırlardaki yinelemeyen / benzersiz veriler elde edilip bu kolonun altındaki veriler düzenlenir."
   ]
  },
  {
   "cell_type": "code",
   "execution_count": null,
   "id": "b1e7c650",
   "metadata": {},
   "outputs": [],
   "source": [
    "df[\"Bulunduğu Kat\"].unique()"
   ]
  },
  {
   "cell_type": "markdown",
   "id": "aca18f2f",
   "metadata": {},
   "source": [
    "*Bulunduğu Kat kolonunun altındaki En Üst Kat değerine sahip verileri getirir* "
   ]
  },
  {
   "cell_type": "code",
   "execution_count": null,
   "id": "e0e0e4ed",
   "metadata": {},
   "outputs": [],
   "source": [
    "df[df[\"Bulunduğu Kat\"] == 'Kot 1']"
   ]
  },
  {
   "cell_type": "markdown",
   "id": "887477a3",
   "metadata": {},
   "source": [
    "> *Bu veriler sayesinde Kot 1'de bulunan dairelerin ilanlarına ulaştım ve Kot 1'de bulunan dairelerin ilanlarında geçen dairelerin gerçekte kot 1'de olmadığını farkettim. Bu yüzden Kot 1 değerine sahip sütunları None olarak adlandırdım. Böylelikle Null değerler ile birlikte bu işe yaramayan satırlar da silinmiş oldu. \n",
    "Yalan ve az veri barındıran bazı diğer 'Bulunduğu Kat' değerleri:*\n",
    "    >* Kot 1 \n",
    "    >* Kot 2 \n",
    "    >* Kot 3 \n",
    "    >* Kot 4 \n",
    "    >* Müstakil \n",
    "    >* Elevation 1\n",
    "    >* Raised First Floor\n",
    "    >* Komple\n",
    "    >* First Floor\n",
    "    >* Garden Floor\n",
    "    >* Top Floor\n"
   ]
  },
  {
   "cell_type": "code",
   "execution_count": null,
   "id": "ef0262f0",
   "metadata": {},
   "outputs": [],
   "source": [
    "df.loc[df[\"Bulunduğu Kat\"]== \"Yüksek Giriş\", \"Bulunduğu Kat\"] = 1\n",
    "\n",
    "df.loc[df[\"Bulunduğu Kat\"]== \"Bodrum Kat\", \"Bulunduğu Kat\"] = -1\n",
    "\n",
    "df.loc[df[\"Bulunduğu Kat\"]== \"En Üst Kat\", \"Bulunduğu Kat\"] = df[\"Binadaki Kat Sayısı\"]\n",
    "df.loc[df[\"Bulunduğu Kat\"]== \"Teras Kat\", \"Bulunduğu Kat\"] = df[\"Binadaki Kat Sayısı\"]\n",
    "df.loc[df[\"Bulunduğu Kat\"]== \"Çatı Katı\", \"Bulunduğu Kat\"] = df[\"Binadaki Kat Sayısı\"]\n",
    "\n",
    "df.loc[df[\"Bulunduğu Kat\"]== \"Zemin Kat\", \"Bulunduğu Kat\"] = 0\n",
    "df.loc[df[\"Bulunduğu Kat\"]== \"Bahçe katı\", \"Bulunduğu Kat\"] = 0\n",
    "df.loc[df[\"Bulunduğu Kat\"]== \"Giriş Katı\", \"Bulunduğu Kat\"] = 0\n",
    "\n",
    "df.loc[df[\"Bulunduğu Kat\"]== \"20 ve üzeri\", \"Bulunduğu Kat\"] = 20\n",
    "\n",
    "df.loc[df[\"Bulunduğu Kat\"]== \"Kot 1\", \"Bulunduğu Kat\"] = None\n",
    "df.loc[df[\"Bulunduğu Kat\"]== \"Kot 2\", \"Bulunduğu Kat\"] = None\n",
    "df.loc[df[\"Bulunduğu Kat\"]== \"Kot 3\", \"Bulunduğu Kat\"] = None\n",
    "df.loc[df[\"Bulunduğu Kat\"]== \"Kot 4\", \"Bulunduğu Kat\"] = None\n",
    "df.loc[df[\"Bulunduğu Kat\"]== \"Müstakil\", \"Bulunduğu Kat\"] = None\n",
    "df.loc[df[\"Bulunduğu Kat\"]== \"Elevation 1\", \"Bulunduğu Kat\"] = None\n",
    "df.loc[df[\"Bulunduğu Kat\"]== \"Raised First Floor\", \"Bulunduğu Kat\"] = None\n",
    "df.loc[df[\"Bulunduğu Kat\"]== \"Komple\", \"Bulunduğu Kat\"] = None\n",
    "df.loc[df[\"Bulunduğu Kat\"]== \"First Floor\", \"Bulunduğu Kat\"] = None\n",
    "df.loc[df[\"Bulunduğu Kat\"]== \"Garden Floor\", \"Bulunduğu Kat\"] = None\n",
    "df.loc[df[\"Bulunduğu Kat\"]== \"Top Floor\", \"Bulunduğu Kat\"] = None"
   ]
  },
  {
   "cell_type": "code",
   "execution_count": null,
   "id": "42c1c016",
   "metadata": {},
   "outputs": [],
   "source": [
    "df"
   ]
  },
  {
   "cell_type": "markdown",
   "id": "7ab0be71",
   "metadata": {},
   "source": [
    "**Bina Yaşı** kolonunun altında bulunan satırlardaki yinelemeyen / benzersiz veriler elde edilip bu kolonun altındaki veriler düzenlenir."
   ]
  },
  {
   "cell_type": "code",
   "execution_count": null,
   "id": "c21b2f09",
   "metadata": {},
   "outputs": [],
   "source": [
    "df[\"Bina Yaşı\"].unique()"
   ]
  },
  {
   "cell_type": "code",
   "execution_count": null,
   "id": "1f15e8e2",
   "metadata": {},
   "outputs": [],
   "source": [
    "df.loc[df[\"Bina Yaşı\"] == \"6-10 arası\" , \"Bina Yaşı\"] = 8\n",
    "df.loc[df[\"Bina Yaşı\"] == \"11-15 arası\" , \"Bina Yaşı\"] = 13\n",
    "df.loc[df[\"Bina Yaşı\"] == \"16-20 arası\" , \"Bina Yaşı\"] = 18\n",
    "df.loc[df[\"Bina Yaşı\"] == \"21-25 arası\" , \"Bina Yaşı\"] = 23\n",
    "df.loc[df[\"Bina Yaşı\"] == \"26-30 arası\" , \"Bina Yaşı\"] = 28\n",
    "df.loc[df[\"Bina Yaşı\"] == \"31-35 arası\" , \"Bina Yaşı\"] = 33\n",
    "df.loc[df[\"Bina Yaşı\"] == \"36-40 arası\" , \"Bina Yaşı\"] = 38\n",
    "df.loc[df[\"Bina Yaşı\"] == \"40 ve üzeri\" , \"Bina Yaşı\"] = 43\n",
    "\n",
    "df.loc[df[\"Bina Yaşı\"] == \"Between 6-10\" , \"Bina Yaşı\"] = 8\n",
    "df.loc[df[\"Bina Yaşı\"] == \"Between 11-15\" , \"Bina Yaşı\"] = 13\n",
    "df.loc[df[\"Bina Yaşı\"] == \"Between 16-20\" , \"Bina Yaşı\"] = 18\n",
    "df.loc[df[\"Bina Yaşı\"] == \"Between 21-25\" , \"Bina Yaşı\"] = 23\n",
    "df.loc[df[\"Bina Yaşı\"] == \"Between 26-30\" , \"Bina Yaşı\"] = 28\n",
    "df.loc[df[\"Bina Yaşı\"] == \"Between 31-35\" , \"Bina Yaşı\"] = 33\n",
    "df.loc[df[\"Bina Yaşı\"] == \"Between 36-40\" , \"Bina Yaşı\"] = 38\n",
    "df.loc[df[\"Bina Yaşı\"] == \"40+\" , \"Bina Yaşı\"] = 43"
   ]
  },
  {
   "cell_type": "code",
   "execution_count": null,
   "id": "6df7512c",
   "metadata": {},
   "outputs": [],
   "source": [
    "df"
   ]
  },
  {
   "cell_type": "markdown",
   "id": "4b9f2318",
   "metadata": {},
   "source": [
    "**Mobilya Durumu** kolonunun altında bulunan satırlardaki yinelemeyen / benzersiz veriler elde edilip bu kolonun altındaki veriler düzenlenir."
   ]
  },
  {
   "cell_type": "code",
   "execution_count": null,
   "id": "4f51b86d",
   "metadata": {},
   "outputs": [],
   "source": [
    "df[\"Mobilya Durumu\"].unique()"
   ]
  },
  {
   "cell_type": "code",
   "execution_count": null,
   "id": "7bd33c0a",
   "metadata": {},
   "outputs": [],
   "source": [
    "df.loc[df[\"Mobilya Durumu\"] == \"Eşyasız\" , \"Mobilya Durumu\"] = 0\n",
    "df.loc[df[\"Mobilya Durumu\"] == \"Eşyalı (Mobilyalı)\" , \"Mobilya Durumu\"] = 1\n",
    "df.loc[df[\"Mobilya Durumu\"] == \"Sadece Beyaz Eşya\" , \"Mobilya Durumu\"] = 2\n",
    "df.loc[df[\"Mobilya Durumu\"] == \"Sadece Mutfak\" , \"Mobilya Durumu\"] = 3\n",
    "\n",
    "df.loc[df[\"Mobilya Durumu\"] == \"Unfurnished\" , \"Mobilya Durumu\"] = 0\n",
    "df.loc[df[\"Mobilya Durumu\"] == \"Furnished\" , \"Mobilya Durumu\"] = 1\n",
    "df.loc[df[\"Mobilya Durumu\"] == \"Only Major Appliances\" , \"Mobilya Durumu\"] = 2\n",
    "df.loc[df[\"Mobilya Durumu\"] == \"Kitchen Only\" , \"Mobilya Durumu\"] = 3\n",
    "\n",
    "df[\"Mobilya Durumu\"] = df[\"Mobilya Durumu\"].fillna(4)"
   ]
  },
  {
   "cell_type": "code",
   "execution_count": null,
   "id": "c71a6b18",
   "metadata": {},
   "outputs": [],
   "source": [
    "df"
   ]
  },
  {
   "cell_type": "markdown",
   "id": "c48c5290",
   "metadata": {},
   "source": [
    "**Kullanım Durumu** kolonunun altında bulunan satırlardaki yinelemeyen / benzersiz veriler elde edilip bu kolonun altındaki veriler düzenlenir."
   ]
  },
  {
   "cell_type": "code",
   "execution_count": null,
   "id": "dbf4fbb3",
   "metadata": {},
   "outputs": [],
   "source": [
    "df[\"Kullanım Durumu\"].unique()"
   ]
  },
  {
   "cell_type": "code",
   "execution_count": null,
   "id": "f2570090",
   "metadata": {},
   "outputs": [],
   "source": [
    "df.loc[df[\"Kullanım Durumu\"] == \"Boş\" , \"Kullanım Durumu\"] = 0 \n",
    "df.loc[df[\"Kullanım Durumu\"] == \"Mülk Sahibi\" , \"Kullanım Durumu\"] = 1\n",
    "df.loc[df[\"Kullanım Durumu\"] == \"Kiracılı\" , \"Kullanım Durumu\"] = 2\n",
    "\n",
    "df.loc[df[\"Kullanım Durumu\"] == \"Vacant\" , \"Kullanım Durumu\"] = 0 \n",
    "df.loc[df[\"Kullanım Durumu\"] == \"Occupied By Property Owner\" , \"Kullanım Durumu\"] = 1\n",
    "df.loc[df[\"Kullanım Durumu\"] == \"Occupied By Tenant\" , \"Kullanım Durumu\"] = 2\n",
    "\n",
    "df[\"Kullanım Durumu\"] = df[\"Kullanım Durumu\"].fillna(3)"
   ]
  },
  {
   "cell_type": "code",
   "execution_count": null,
   "id": "f7ed4940",
   "metadata": {},
   "outputs": [],
   "source": [
    "df"
   ]
  },
  {
   "cell_type": "markdown",
   "id": "bfce94b4",
   "metadata": {},
   "source": [
    "**Krediye Uygun** kolonunun altında bulunan satırlardaki yinelemeyen / benzersiz veriler elde edilip bu kolonun altındaki veriler düzenlenir."
   ]
  },
  {
   "cell_type": "code",
   "execution_count": null,
   "id": "4ec1ab41",
   "metadata": {},
   "outputs": [],
   "source": [
    "df[\"Krediye Uygun\"].unique()"
   ]
  },
  {
   "cell_type": "code",
   "execution_count": null,
   "id": "b0df2ecd",
   "metadata": {},
   "outputs": [],
   "source": [
    "df.loc[df[\"Krediye Uygun\"] == \"Evet\" , \"Krediye Uygun\"] = 1\n",
    "df.loc[df[\"Krediye Uygun\"] == \"Yes\" , \"Krediye Uygun\"] = 1\n",
    "df.loc[df[\"Krediye Uygun\"] == \"Hayır\" , \"Krediye Uygun\"] = 0"
   ]
  },
  {
   "cell_type": "code",
   "execution_count": null,
   "id": "52fb8684",
   "metadata": {},
   "outputs": [],
   "source": [
    "df"
   ]
  },
  {
   "cell_type": "markdown",
   "id": "6b455bf1",
   "metadata": {},
   "source": [
    "**Oda** kolonunun altında bulunan satırlardaki yinelemeyen / benzersiz veriler elde edilip bu kolonun altındaki veriler düzenlenir. Bu kolonun altındaki veriler bize bilgi vermesi için aynı kalmalıdır fakat makine öğrenmesinde kullanıma uygun olabilmesi için **toplam_oda_sayisi** adında yeni bir kolon açılır ve buraya toplam oda sayısı yazılır."
   ]
  },
  {
   "cell_type": "code",
   "execution_count": null,
   "id": "e33aba0f",
   "metadata": {},
   "outputs": [],
   "source": [
    "df[\"Oda\"].unique()"
   ]
  },
  {
   "cell_type": "code",
   "execution_count": null,
   "id": "0ba3514b",
   "metadata": {},
   "outputs": [],
   "source": [
    "df.loc[df[\"Oda\"] == \" 3 + 1 \" , \"toplam_oda_sayisi\"] = 4\n",
    "df.loc[df[\"Oda\"] == \" 2 + 1 \" , \"toplam_oda_sayisi\"] = 3\n",
    "df.loc[df[\"Oda\"] == \" 4 + 1 \" , \"toplam_oda_sayisi\"] = 5\n",
    "df.loc[df[\"Oda\"] == \" 1 + 1 \" , \"toplam_oda_sayisi\"] = 2\n",
    "df.loc[df[\"Oda\"] == \" 5 + 1 \" , \"toplam_oda_sayisi\"] = 6\n",
    "df.loc[df[\"Oda\"] == \" 4 + 2 \" , \"toplam_oda_sayisi\"] = 6\n",
    "df.loc[df[\"Oda\"] == \" 5 + 2 \" , \"toplam_oda_sayisi\"] = 7\n",
    "df.loc[df[\"Oda\"] == \" 6 + 1 \" , \"toplam_oda_sayisi\"] = 7\n",
    "df.loc[df[\"Oda\"] == \" 2 + 0 \" , \"toplam_oda_sayisi\"] = 2\n",
    "df.loc[df[\"Oda\"] == \" 3 + 2 \" , \"toplam_oda_sayisi\"] = 5\n",
    "df.loc[df[\"Oda\"] == \" 6 + 2 \" , \"toplam_oda_sayisi\"] = 8\n",
    "df.loc[df[\"Oda\"] == \" 1 + 0 \" , \"toplam_oda_sayisi\"] = 1\n",
    "df.loc[df[\"Oda\"] == \" 2 + 2 \" , \"toplam_oda_sayisi\"] = 4\n",
    "df.loc[df[\"Oda\"] == \" 7 + 1 \" , \"toplam_oda_sayisi\"] = 8\n",
    "df.loc[df[\"Oda\"] == \" 7 + 2 \" , \"toplam_oda_sayisi\"] = 9\n",
    "df.loc[df[\"Oda\"] == \" 4 + 3 \" , \"toplam_oda_sayisi\"] = 7\n",
    "df.loc[df[\"Oda\"] == \" 10 ve üzeri \" , \"toplam_oda_sayisi\"] = 10\n",
    "df.loc[df[\"Oda\"] == \" 8 + 1 \" , \"toplam_oda_sayisi\"] = 9\n",
    "df.loc[df[\"Oda\"] == \" 4 + 4 \" , \"toplam_oda_sayisi\"] = 8\n",
    "df.loc[df[\"Oda\"] == \" 6 + 3 \" , \"toplam_oda_sayisi\"] = 9\n",
    "df.loc[df[\"Oda\"] == \" 9 + 2 \" , \"toplam_oda_sayisi\"] = 10\n",
    "df.loc[df[\"Oda\"] == \" 8 + 2 \" , \"toplam_oda_sayisi\"] = 10\n",
    "df.loc[df[\"Oda\"] == \" 9 + 3 \" , \"toplam_oda_sayisi\"] = 10\n",
    "df.loc[df[\"Oda\"] == \" 9 + 1 \" , \"toplam_oda_sayisi\"] = 10\n",
    "df.loc[df[\"Oda\"] == \" 8 + 3 \" , \"toplam_oda_sayisi\"] = 10\n",
    "df.loc[df[\"Oda\"] == \" 7 + 3 \" , \"toplam_oda_sayisi\"] = 10\n",
    "df.loc[df[\"Oda\"] == \" 5 + 3 \" , \"toplam_oda_sayisi\"] = 8"
   ]
  },
  {
   "cell_type": "code",
   "execution_count": null,
   "id": "9c260702",
   "metadata": {},
   "outputs": [],
   "source": [
    "df"
   ]
  },
  {
   "cell_type": "markdown",
   "id": "14534887",
   "metadata": {},
   "source": [
    "### Null Verilerin Silinmesi"
   ]
  },
  {
   "cell_type": "code",
   "execution_count": null,
   "id": "1b6d8a5b",
   "metadata": {},
   "outputs": [],
   "source": [
    "df = df.dropna()"
   ]
  },
  {
   "cell_type": "code",
   "execution_count": null,
   "id": "fa747269",
   "metadata": {},
   "outputs": [],
   "source": [
    "df.isnull().sum()"
   ]
  },
  {
   "cell_type": "markdown",
   "id": "9e76f0be",
   "metadata": {},
   "source": [
    "### Sayısal Verilerin Numeric Veriye Dönüştürülmesi"
   ]
  },
  {
   "cell_type": "code",
   "execution_count": null,
   "id": "bbbc1fca",
   "metadata": {},
   "outputs": [],
   "source": [
    "df[[\"Net m²\",\"Brüt m²\",\"Binadaki Kat Sayısı\",\"Bulunduğu Kat\",\"Isıtma Tipi\",\"Bina Yaşı\",\"Fiyat\",\"Krediye Uygun\",\"toplam_oda_sayisi\"]] = df[[\"Net m²\",\"Brüt m²\",\"Binadaki Kat Sayısı\",\"Bulunduğu Kat\",\"Isıtma Tipi\",\"Bina Yaşı\",\"Fiyat\",\"Krediye Uygun\",\"toplam_oda_sayisi\"]].apply(pd.to_numeric)"
   ]
  },
  {
   "cell_type": "code",
   "execution_count": null,
   "id": "8afd3929",
   "metadata": {},
   "outputs": [],
   "source": [
    "df.info()"
   ]
  },
  {
   "cell_type": "markdown",
   "id": "49cd84b7",
   "metadata": {},
   "source": [
    ">*toplam_oda_sayisi kolonundaki değerler de integer veri tipine dönüştürülür.*"
   ]
  },
  {
   "cell_type": "code",
   "execution_count": null,
   "id": "9b2d022c",
   "metadata": {},
   "outputs": [],
   "source": [
    "df.toplam_oda_sayisi = df.toplam_oda_sayisi.astype(int)"
   ]
  },
  {
   "cell_type": "code",
   "execution_count": null,
   "id": "68076384",
   "metadata": {},
   "outputs": [],
   "source": [
    "df"
   ]
  },
  {
   "cell_type": "markdown",
   "id": "0dea2ff6",
   "metadata": {},
   "source": [
    "#### *Kolonların Yeniden İsimlendirilmesi* "
   ]
  },
  {
   "cell_type": "code",
   "execution_count": null,
   "id": "60b782e7",
   "metadata": {},
   "outputs": [],
   "source": [
    "df.columns = ['net_alan', 'brut_alan', 'kat_sayisi', 'isitma', 'bulundugu_kat' ,'bina_yasi', 'esya', 'kullanim_durumu', 'kredi_durumu','fiyat','il','ilce','mahalle','oda_sayisi','toplam_oda_sayisi']"
   ]
  },
  {
   "cell_type": "code",
   "execution_count": null,
   "id": "a38a1f65",
   "metadata": {},
   "outputs": [],
   "source": [
    "df"
   ]
  },
  {
   "cell_type": "markdown",
   "id": "f9e041df",
   "metadata": {},
   "source": [
    "# KONUM"
   ]
  },
  {
   "cell_type": "markdown",
   "id": "dd14c6fc",
   "metadata": {},
   "source": [
    "Konum bilgileri geopy kütüphanesi kullanılarak işleniyor ve koordinat bilgileri elde ediliyor. Koordinat bilgileri verisetine eklenerek makine öğrenmesi algoritmaları bu sayısal veriler üzerinde uygulanacak."
   ]
  },
  {
   "cell_type": "code",
   "execution_count": null,
   "id": "d96dee41",
   "metadata": {},
   "outputs": [],
   "source": [
    "from geopy.geocoders import Nominatim\n",
    "geolocator = Nominatim(user_agent=\"MyApp\")\n",
    "from IPython.display import clear_output\n",
    "\n",
    "location = geolocator.geocode(\"Hyderabad\")\n",
    "\n",
    "df.loc[3].il"
   ]
  },
  {
   "cell_type": "code",
   "execution_count": null,
   "id": "b2804073",
   "metadata": {},
   "outputs": [],
   "source": [
    "len(df)"
   ]
  },
  {
   "cell_type": "code",
   "execution_count": null,
   "id": "a104801a",
   "metadata": {},
   "outputs": [],
   "source": [
    "lat = []\n",
    "lng = []\n",
    "for i in range(len(df)):\n",
    "    location = geolocator.geocode(df.loc[i].il + \" \" + df.loc[i].ilce)\n",
    "    lat.append(location.latitude)\n",
    "    lng.append(location.longitude)\n",
    "    print(i)\n",
    "    clear_output(wait=True)\n"
   ]
  },
  {
   "cell_type": "markdown",
   "id": "ed499e93",
   "metadata": {},
   "source": [
    "### Indexlerin yenilenmesi"
   ]
  },
  {
   "cell_type": "code",
   "execution_count": null,
   "id": "358cf19e",
   "metadata": {},
   "outputs": [],
   "source": [
    "df = df.reset_index(drop=True)"
   ]
  },
  {
   "cell_type": "code",
   "execution_count": null,
   "id": "a6231c1e",
   "metadata": {},
   "outputs": [],
   "source": [
    "df[(df.il == 'İstanbul') & (df.ilce == 'Kartal')]"
   ]
  },
  {
   "cell_type": "code",
   "execution_count": null,
   "id": "e64c4894",
   "metadata": {},
   "outputs": [],
   "source": [
    "df.loc[588]"
   ]
  },
  {
   "cell_type": "code",
   "execution_count": null,
   "id": "ca456308",
   "metadata": {},
   "outputs": [],
   "source": [
    "df"
   ]
  },
  {
   "cell_type": "markdown",
   "id": "ea31aadf",
   "metadata": {},
   "source": [
    "#### *NEED CHANGE* ↓"
   ]
  },
  {
   "cell_type": "markdown",
   "id": "18419156",
   "metadata": {},
   "source": [
    "## Fiyat Aralığının Belirlenmesi "
   ]
  },
  {
   "cell_type": "code",
   "execution_count": null,
   "id": "bc1ae2dc",
   "metadata": {},
   "outputs": [],
   "source": [
    "import matplotlib.pyplot as plt\n",
    "import seaborn as sns\n",
    "\n",
    "sns.histplot(data=df, x=\"fiyat\", bins=1)"
   ]
  },
  {
   "cell_type": "code",
   "execution_count": null,
   "id": "2628aec8",
   "metadata": {},
   "outputs": [],
   "source": [
    "#sns.displot(df, x=\"fiyat\")"
   ]
  },
  {
   "cell_type": "code",
   "execution_count": null,
   "id": "3144c261",
   "metadata": {},
   "outputs": [],
   "source": [
    "sns.boxplot(x=df[\"fiyat\"],fliersize=5)"
   ]
  },
  {
   "cell_type": "code",
   "execution_count": null,
   "id": "d569511b",
   "metadata": {},
   "outputs": [],
   "source": [
    "sns.kdeplot(data=df['fiyat'], shade=True,bw_adjust=50) "
   ]
  },
  {
   "cell_type": "code",
   "execution_count": null,
   "id": "7efbafec",
   "metadata": {},
   "outputs": [],
   "source": [
    "sns.histplot(data=df, x=\"fiyat\", bins=10)"
   ]
  },
  {
   "cell_type": "code",
   "execution_count": null,
   "id": "c039f717",
   "metadata": {},
   "outputs": [],
   "source": [
    "df.fiyat.mean()"
   ]
  },
  {
   "cell_type": "code",
   "execution_count": null,
   "id": "d8666ca2",
   "metadata": {},
   "outputs": [],
   "source": [
    "df.fiyat.sort_values(ascending=False)"
   ]
  },
  {
   "cell_type": "code",
   "execution_count": null,
   "id": "628de8fd",
   "metadata": {},
   "outputs": [],
   "source": [
    "df = df[(df.fiyat>300000) & (df.fiyat < 15000000)]"
   ]
  },
  {
   "cell_type": "code",
   "execution_count": null,
   "id": "59d7ea5e",
   "metadata": {},
   "outputs": [],
   "source": [
    "import matplotlib.pyplot as plt\n",
    "import seaborn as sns\n",
    "\n",
    "sns.histplot(data=df, x=\"fiyat\", bins=50)"
   ]
  },
  {
   "cell_type": "code",
   "execution_count": null,
   "id": "d52c676a",
   "metadata": {},
   "outputs": [],
   "source": [
    "df = df.reset_index(drop=True)"
   ]
  },
  {
   "cell_type": "code",
   "execution_count": null,
   "id": "c9362d8c",
   "metadata": {},
   "outputs": [],
   "source": [
    "df"
   ]
  },
  {
   "cell_type": "code",
   "execution_count": null,
   "id": "d2bd3eed",
   "metadata": {},
   "outputs": [],
   "source": [
    "len(df[df.il==\"İstanbul\"])"
   ]
  },
  {
   "cell_type": "code",
   "execution_count": null,
   "id": "d73c0a33",
   "metadata": {},
   "outputs": [],
   "source": [
    "df['fiyat']"
   ]
  },
  {
   "cell_type": "markdown",
   "id": "f4a32fd2",
   "metadata": {},
   "source": [
    "#### *NEED CHANGE ↑*"
   ]
  },
  {
   "cell_type": "markdown",
   "id": "25166377",
   "metadata": {},
   "source": [
    "### Veri Setinin CSV  Olarak Dışa Aktarılması"
   ]
  },
  {
   "cell_type": "code",
   "execution_count": null,
   "id": "c40ba684",
   "metadata": {},
   "outputs": [],
   "source": [
    "df.to_csv(\"Preprocessed.csv\")"
   ]
  },
  {
   "cell_type": "markdown",
   "id": "deac0bee",
   "metadata": {},
   "source": [
    "## Şehirlerin Kategorik İncelenmesi İçin Ayrı Bir Veri Seti Oluşturulması"
   ]
  },
  {
   "cell_type": "markdown",
   "id": "c2f9e6f5",
   "metadata": {},
   "source": [
    "*city_list adında bir dizi oluşturulur. Bu dizi Türkiyedeki bütün illerin listesidir.*"
   ]
  },
  {
   "cell_type": "code",
   "execution_count": null,
   "id": "fa841f0e",
   "metadata": {},
   "outputs": [],
   "source": [
    "city_list = ['Adana', 'Adıyaman', 'Afyon', 'Ağrı', 'Amasya', 'Ankara', 'Antalya', 'Artvin',\n",
    "'Aydın', 'Balıkesir', 'Bilecik', 'Bingöl', 'Bitlis', 'Bolu', 'Burdur', 'Bursa', 'Çanakkale',\n",
    "'Çankırı', 'Çorum', 'Denizli', 'Diyarbakır', 'Edirne', 'Elazığ', 'Erzincan', 'Erzurum', 'Eskişehir',\n",
    "'Gaziantep', 'Giresun', 'Gümüşhane', 'Hakkari', 'Hatay', 'Isparta', 'Mersin', 'İstanbul', 'İzmir', \n",
    "'Kars', 'Kastamonu', 'Kayseri', 'Kırklareli', 'Kırşehir', 'Kocaeli', 'Konya', 'Kütahya', 'Malatya', \n",
    "'Manisa', 'Kahramanmaraş', 'Mardin', 'Muğla', 'Muş', 'Nevşehir', 'Niğde', 'Ordu', 'Rize', 'Sakarya',\n",
    "'Samsun', 'Siirt', 'Sinop', 'Sivas', 'Tekirdağ', 'Tokat', 'Trabzon', 'Tunceli', 'Şanlıurfa', 'Uşak',\n",
    "'Van', 'Yozgat', 'Zonguldak', 'Aksaray', 'Bayburt', 'Karaman', 'Kırıkkale', 'Batman', 'Şırnak',\n",
    "'Bartın', 'Ardahan', 'Iğdır', 'Yalova', 'Karabük', 'Kilis', 'Osmaniye', 'Düzce']"
   ]
  },
  {
   "cell_type": "markdown",
   "id": "80cf8622",
   "metadata": {},
   "source": [
    "*ilan_sayisi ve ort_fiyat adında iki tane boş liste oluşturulur ve bu listelere sırasıyla city_list içindeki tüm elemanlar gezilerek df veri setindeki tüm ilanların illere göre sayısını ve illere göre fiyat ortalaması aktarılır.*"
   ]
  },
  {
   "cell_type": "code",
   "execution_count": null,
   "id": "bf578ce2",
   "metadata": {},
   "outputs": [],
   "source": [
    "ilan_sayisi = []\n",
    "ort_fiyat = []\n",
    "for city in city_list:\n",
    "    ilan_sayisi.append(len(df[df.il==city]))\n",
    "    ort_fiyat.append(df[df.il==city].fiyat.mean())\n",
    "    "
   ]
  },
  {
   "cell_type": "markdown",
   "id": "9505e23f",
   "metadata": {},
   "source": [
    "*illere_gore_ilan adında bir DataFrame oluşturulur ve bu DataFrame' in içine city_list içindeki şehirler, ilan_sayisi ve ort_fiyat değerleri aktarılır. Bunlar dışında plaka kodlarını bu DataFrame'e aktarmak için ise her şehrin index sayısının 1 fazlası yazılır böylece doğru plaka kodları oluşturulmuş olunur.*"
   ]
  },
  {
   "cell_type": "code",
   "execution_count": null,
   "id": "0365d1b2",
   "metadata": {},
   "outputs": [],
   "source": [
    "illere_gore_ilan = pd.DataFrame()\n",
    "\n",
    "illere_gore_ilan['sehir'] = pd.Series(city_list)\n",
    "illere_gore_ilan['plaka_kodu'] = illere_gore_ilan.index+1\n",
    "illere_gore_ilan['ilan'] = pd.Series(ilan_sayisi)\n",
    "illere_gore_ilan['ortalama_fiyat'] = pd.Series(ort_fiyat)\n",
    "\n",
    "\n",
    "illere_gore_ilan\n"
   ]
  },
  {
   "cell_type": "code",
   "execution_count": null,
   "id": "01219da6",
   "metadata": {},
   "outputs": [],
   "source": [
    "illere_gore_ilan = illere_gore_ilan.fillna(0)"
   ]
  },
  {
   "cell_type": "markdown",
   "id": "9e20679d",
   "metadata": {},
   "source": [
    ">*Null olan değerler 0 ile dolduruldu. Böylece hiç ilan açılmamış şehirler 0 ile gösterilmiş oldu.*"
   ]
  },
  {
   "cell_type": "code",
   "execution_count": null,
   "id": "f0532775",
   "metadata": {},
   "outputs": [],
   "source": [
    "illere_gore_ilan.ortalama_fiyat = illere_gore_ilan.ortalama_fiyat.astype(int)"
   ]
  },
  {
   "cell_type": "markdown",
   "id": "d6f0dd5a",
   "metadata": {},
   "source": [
    ">*Rahatsız eden ortalama_fiyat değerleri integer veri tipine dönüştürüldü.*"
   ]
  },
  {
   "cell_type": "code",
   "execution_count": null,
   "id": "ac26555f",
   "metadata": {},
   "outputs": [],
   "source": [
    "illere_gore_ilan"
   ]
  },
  {
   "cell_type": "code",
   "execution_count": null,
   "id": "03c4eb44",
   "metadata": {},
   "outputs": [],
   "source": [
    "illere_gore_ilan.sort_values(by=\"ortalama_fiyat\", ascending=False) #ortalama_fiyat değerine göre yüksekten düşüğe"
   ]
  },
  {
   "cell_type": "code",
   "execution_count": null,
   "id": "50a0c1f9",
   "metadata": {},
   "outputs": [],
   "source": [
    "illere_gore_ilan.sort_values(by=\"ortalama_fiyat\", ascending=True) #ortalama_fiyat değerine göre düşükten yükseğe"
   ]
  },
  {
   "cell_type": "code",
   "execution_count": null,
   "id": "35f9f055",
   "metadata": {},
   "outputs": [],
   "source": [
    "df[(df.il == 'Erzurum')] # Erzurum ilindeki ilanların detayı"
   ]
  }
 ],
 "metadata": {
  "kernelspec": {
   "display_name": "Python 3 (ipykernel)",
   "language": "python",
   "name": "python3"
  },
  "language_info": {
   "codemirror_mode": {
    "name": "ipython",
    "version": 3
   },
   "file_extension": ".py",
   "mimetype": "text/x-python",
   "name": "python",
   "nbconvert_exporter": "python",
   "pygments_lexer": "ipython3",
   "version": "3.10.4"
  }
 },
 "nbformat": 4,
 "nbformat_minor": 5
}
