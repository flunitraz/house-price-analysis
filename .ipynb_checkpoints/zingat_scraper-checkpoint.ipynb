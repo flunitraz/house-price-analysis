{
 "cells": [
  {
   "cell_type": "code",
   "execution_count": 1,
   "id": "50a83c91-8021-4134-879f-326f7d3a09bb",
   "metadata": {},
   "outputs": [],
   "source": [
    "from bs4 import BeautifulSoup as bs\n",
    "import requests\n",
    "import os\n",
    "import pandas as pd"
   ]
  },
  {
   "cell_type": "code",
   "execution_count": 2,
   "id": "90c77931-b43b-4525-98f2-e4fd675c2426",
   "metadata": {
    "tags": []
   },
   "outputs": [],
   "source": [
    "#city_list = ['istanbul', 'ankara', 'izmir', 'adana', 'adiyaman', 'afyonkarahisar', 'agri', 'aksaray', 'amasya', 'antalya', 'ardahan', 'artvin', 'aydin', 'balikesir', 'bartin', 'batman', 'bayburt', 'bilecik', 'bingol', 'bitlis', 'bolu', 'burdur', 'bursa', 'canakkale', 'cankiri', 'corum', 'denizli', 'diyarbakir', 'duzce', 'edirne', 'elazig', 'erzincan', 'erzurum', 'eskisehir', 'gaziantep', 'giresun', 'gumushane', 'hakkari', 'hatay', 'igdir', 'isparta', 'kahramanmaras', 'karabuk', 'karaman', 'kars', 'kastamonu', 'kayseri', 'kirikkale', 'kirklareli', 'kirsehir', 'kilis', 'kocaeli', 'konya', 'kutahya', 'malatya', 'manisa', 'mardin', 'mersin', 'mugla', 'mus', 'nevsehir', 'nigde', 'ordu', 'osmaniye', 'rize', 'sakarya', 'samsun', 'siirt', 'sinop', 'sivas', 'sanliurfa', 'sirnak', 'tekirdag', 'tokat', 'trabzon', 'tunceli', 'usak', 'van', 'yalova', 'yozgat', 'zonguldak']\n",
    "city_list = [\"bartin\"]"
   ]
  },
  {
   "cell_type": "code",
   "execution_count": 4,
   "id": "5e2530c7-77f5-40aa-b751-85881cc5f467",
   "metadata": {
    "tags": []
   },
   "outputs": [
    {
     "name": "stdout",
     "output_type": "stream",
     "text": [
      "Toplam 4 sayfa çekildi.\n"
     ]
    },
    {
     "name": "stderr",
     "output_type": "stream",
     "text": [
      "UsageError: Line magic function `%%time` not found.\n"
     ]
    }
   ],
   "source": [
    "city_urls = []\n",
    "pages = []\n",
    "num_scraped_pages = 0\n",
    "\n",
    "for city in city_list:\n",
    "    url=\"https://www.zingat.com/\" + city +\"-satilik-daire?page=\"\n",
    "    city_urls.append(url)\n",
    "\n",
    "for i in range(0,len(city_urls)):\n",
    "    response = requests.get(city_urls[i]).text\n",
    "    soup = bs(response, 'html.parser')\n",
    "    try:\n",
    "        num_pages = soup.find(\"nav\", \"zng-pagination\")['data-total']\n",
    "        for j in range(1, int(num_pages)+1):\n",
    "            page = city_urls[i] + str(j)\n",
    "            pages.append(page)\n",
    "            num_scraped_pages+=1\n",
    "    except:\n",
    "        continue\n",
    "        \n",
    "print(f\"Toplam {num_scraped_pages} sayfa çekildi.\")\n",
    "%%time"
   ]
  },
  {
   "cell_type": "code",
   "execution_count": 4,
   "id": "77c434ef-3c23-492f-a66f-51726cd8800c",
   "metadata": {},
   "outputs": [
    {
     "name": "stdout",
     "output_type": "stream",
     "text": [
      "Toplam 27338 ilan çekildi.\n"
     ]
    }
   ],
   "source": [
    "page_url = []\n",
    "cont_url = []\n",
    "num_scraped_cont = 0\n",
    "\n",
    "for page in pages:\n",
    "    response = requests.get(page)\n",
    "    soup = bs(response.text, \"html.parser\")\n",
    "    page_url.append(soup.select(\".zl-card-inner\"))\n",
    "\n",
    "for page in page_url:\n",
    "    for url in page:\n",
    "        cont_url.append(\"https://www.zingat.com\" + url.get(\"href\"))        \n",
    "        num_scraped_cont+=1\n",
    "        \n",
    "print(f\"Toplam {num_scraped_cont} ilan çekildi.\")"
   ]
  },
  {
   "cell_type": "code",
   "execution_count": 5,
   "id": "8a5b9772-e1cd-433c-87ea-7578b51dd529",
   "metadata": {},
   "outputs": [
    {
     "name": "stdout",
     "output_type": "stream",
     "text": [
      "Toplam 27324 içerik çekildi.\n"
     ]
    }
   ],
   "source": [
    "detay_raw = []\n",
    "oda= []\n",
    "fiyat = []\n",
    "mahalle = []\n",
    "ilce =[]\n",
    "il = []\n",
    "num_scraped_cont = 0\n",
    "\n",
    "for url in cont_url:\n",
    "    try:\n",
    "        response = requests.get(url)\n",
    "        soup = bs(response.text, \"html.parser\")\n",
    "        \n",
    "        detay_raw.append([tag.text.strip() for tag in soup.find_all([\"strong\", \"span\"], {\"class\": \"col-md-6\"})])\n",
    "        fiyat.append(soup.find(\"strong\", itemprop = \"price\").text.replace(\"TL\", \"\").replace(\".\",\"\").replace(\" \",\"\"))\n",
    "        oda.append(soup.find(\"div\",\"detail-info not-printable\").text.replace(\"\\n\",\",\").split(\",\")[5])\n",
    "        mahalle.append(soup.find(\"div\", \"detail-location-path__map\").find(\"h2\").text.replace(\"\\n\",\"\").split(\",\")[0].strip())\n",
    "        ilce.append(soup.find(\"div\", \"detail-location-path__map\").find(\"h2\").text.replace(\"\\n\",\"\").split(\",\")[1].strip())\n",
    "        il.append(soup.find(\"div\", \"detail-location-path__map\").find(\"h2\").text.replace(\"\\n\",\"\").split(\",\")[2].strip())\n",
    "        num_scraped_cont+=1\n",
    "    except:\n",
    "        continue\n",
    "    \n",
    "detay = []\n",
    "for d in detay_raw:\n",
    "    detay.append(dict(zip(d[::2], d[1::2])))\n",
    "\n",
    "print(f\"Toplam {num_scraped_cont} içerik çekildi.\")    "
   ]
  },
  {
   "cell_type": "code",
   "execution_count": 6,
   "id": "aa9104bf-b308-4299-bd2e-5c024c1695fe",
   "metadata": {},
   "outputs": [],
   "source": [
    "df = pd.DataFrame(detay)\n",
    "df['Fiyat'] = pd.Series(fiyat)\n",
    "df['İl'] = pd.Series(il)\n",
    "df['İlçe'] = pd.Series(ilce)\n",
    "df['Mahalle'] = pd.Series(mahalle)\n",
    "df['Oda'] = pd.Series(oda)"
   ]
  },
  {
   "cell_type": "code",
   "execution_count": 7,
   "id": "d45294a2",
   "metadata": {},
   "outputs": [],
   "source": [
    "df.drop([\"İlan no\",\"Oda Sayısı\",\"Banyo Sayısı\",\"Konut Şekli\",\"Aidat\",\"Kira Getirisi\",\n",
    "         \"Takasa Uygun\",\"Kimden\",\"Tapu Durumu\",\"Yapının Durumu\",\n",
    "         \"Görüntülü Ev Gezintisi\\n                                                                ?\"],\n",
    "        axis=1,inplace=True)"
   ]
  },
  {
   "cell_type": "code",
   "execution_count": null,
   "id": "87c41dfd",
   "metadata": {},
   "outputs": [],
   "source": [
    "df.to_csv(\"/data/zingat_raw.csv\")"
   ]
  },
  {
   "cell_type": "code",
   "execution_count": 8,
   "id": "2e85d008",
   "metadata": {},
   "outputs": [
    {
     "data": {
      "text/plain": [
       "'df[\\'Brüt m²\\'] = df[\\'Brüt m²\\'].replace(\\'m²\\', \\'\\', regex=True)\\n\\ndf[[\"Net m²\", \"Brüt m²\"]] = df[[\"Net m²\", \"Brüt m²\"]].apply(pd.to_numeric)\\n\\ndf[\"Mobilya Durumu\"] = df[\"Mobilya Durumu\"].fillna(\"Eşyasız\")\\n\\ndf.loc[df[\"Bina Yaşı\"] == \"6-10 arası\" , \"Bina Yaşı\"] = \"10\"\\ndf.loc[df[\"Bina Yaşı\"] == \"11-15 arası\" , \"Bina Yaşı\"] = \"10\"\\ndf.loc[df[\"Bina Yaşı\"] == \"16-20 arası\" , \"Bina Yaşı\"] = \"10\"\\ndf.loc[df[\"Bina Yaşı\"] == \"21-25 arası\" , \"Bina Yaşı\"] = \"10\"\\ndf.loc[df[\"Bina Yaşı\"] == \"26-30 arası\" , \"Bina Yaşı\"] = \"10\"\\n'"
      ]
     },
     "execution_count": 8,
     "metadata": {},
     "output_type": "execute_result"
    }
   ],
   "source": [
    "'''df['Brüt m²'] = df['Brüt m²'].replace('m²', '', regex=True)\n",
    "\n",
    "df[[\"Net m²\", \"Brüt m²\"]] = df[[\"Net m²\", \"Brüt m²\"]].apply(pd.to_numeric)\n",
    "\n",
    "df[\"Mobilya Durumu\"] = df[\"Mobilya Durumu\"].fillna(\"Eşyasız\")\n",
    "\n",
    "df.loc[df[\"Bina Yaşı\"] == \"6-10 arası\" , \"Bina Yaşı\"] = \"10\"\n",
    "df.loc[df[\"Bina Yaşı\"] == \"11-15 arası\" , \"Bina Yaşı\"] = \"10\"\n",
    "df.loc[df[\"Bina Yaşı\"] == \"16-20 arası\" , \"Bina Yaşı\"] = \"10\"\n",
    "df.loc[df[\"Bina Yaşı\"] == \"21-25 arası\" , \"Bina Yaşı\"] = \"10\"\n",
    "df.loc[df[\"Bina Yaşı\"] == \"26-30 arası\" , \"Bina Yaşı\"] = \"10\"\n",
    "'''"
   ]
  },
  {
   "cell_type": "code",
   "execution_count": 1,
   "id": "df151deb",
   "metadata": {},
   "outputs": [
    {
     "ename": "NameError",
     "evalue": "name 'df' is not defined",
     "output_type": "error",
     "traceback": [
      "\u001b[0;31m---------------------------------------------------------------------------\u001b[0m",
      "\u001b[0;31mNameError\u001b[0m                                 Traceback (most recent call last)",
      "\u001b[0;32m/tmp/ipykernel_3233/1396537375.py\u001b[0m in \u001b[0;36m<module>\u001b[0;34m\u001b[0m\n\u001b[0;32m----> 1\u001b[0;31m \u001b[0mdf\u001b[0m\u001b[0;34m\u001b[0m\u001b[0;34m\u001b[0m\u001b[0m\n\u001b[0m",
      "\u001b[0;31mNameError\u001b[0m: name 'df' is not defined"
     ]
    }
   ],
   "source": [
    "df"
   ]
  },
  {
   "cell_type": "code",
   "execution_count": null,
   "id": "01c6fa73",
   "metadata": {},
   "outputs": [],
   "source": []
  }
 ],
 "metadata": {
  "celltoolbar": "Attachments",
  "kernelspec": {
   "display_name": "Python 3 (ipykernel)",
   "language": "python",
   "name": "python3"
  },
  "language_info": {
   "codemirror_mode": {
    "name": "ipython",
    "version": 3
   },
   "file_extension": ".py",
   "mimetype": "text/x-python",
   "name": "python",
   "nbconvert_exporter": "python",
   "pygments_lexer": "ipython3",
   "version": "3.10.4"
  }
 },
 "nbformat": 4,
 "nbformat_minor": 5
}
